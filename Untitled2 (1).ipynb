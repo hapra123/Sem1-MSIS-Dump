{
  "nbformat": 4,
  "nbformat_minor": 0,
  "metadata": {
    "colab": {
      "provenance": []
    },
    "kernelspec": {
      "name": "python3",
      "display_name": "Python 3"
    },
    "language_info": {
      "name": "python"
    }
  },
  "cells": [
    {
      "cell_type": "code",
      "execution_count": 44,
      "metadata": {
        "colab": {
          "base_uri": "https://localhost:8080/"
        },
        "id": "DQftvd7m6_tY",
        "outputId": "f002a979-faa2-453e-cdfb-cc009012f373"
      },
      "outputs": [
        {
          "output_type": "stream",
          "name": "stdout",
          "text": [
            "Total Registration: 2\n",
            "Slot 1: 1\n",
            "Slot 2: 1\n",
            "Slot 3: 0\n",
            "{'name': 'Hardik', 'reg': 'MSIS1919', 'slot': 1}\n",
            "{'name': 'Prabal', 'reg': 'MSIS1917', 'slot': 2}\n",
            "No matching slot found.\n",
            "No matching slot found.\n",
            "No matching slot found.\n"
          ]
        }
      ],
      "source": [
        "class University:\n",
        "    def __init__(self):\n",
        "        self.inst_dic = {}\n",
        "        self.st_info = {}\n",
        "\n",
        "    def adduniversity(self, institute_name, number):\n",
        "        self.inst_dic[institute_name] = {'expected': number, 1: 0, 2: 0, 3: 0}\n",
        "        self.st_info[institute_name] = []\n",
        "        return True\n",
        "\n",
        "    def student_reg(self, name, institute_name, reg, slot):\n",
        "        if institute_name in self.inst_dic:\n",
        "            if self.inst_dic[institute_name][slot] < 0.5 * self.inst_dic[institute_name]['expected']:\n",
        "                self.st_info[institute_name].append({'name': name, 'reg': reg, 'slot': slot})\n",
        "                self.inst_dic[institute_name][slot] += 1\n",
        "                return True\n",
        "            else:\n",
        "                return False\n",
        "        else:\n",
        "            print(f\"Institution {institute_name} not found.\")\n",
        "            return False\n",
        "\n",
        "    def count_institute_slot(self, institute_name):\n",
        "        if institute_name in self.inst_dic:\n",
        "            total_registration = (\n",
        "                self.inst_dic[institute_name][1] +\n",
        "                self.inst_dic[institute_name][2] +\n",
        "                self.inst_dic[institute_name][3]\n",
        "            )\n",
        "            print(f\"Total Registration: {total_registration}\")\n",
        "            print(f\"Slot 1: {self.inst_dic[institute_name][1]}\")\n",
        "            print(f\"Slot 2: {self.inst_dic[institute_name][2]}\")\n",
        "            print(f\"Slot 3: {self.inst_dic[institute_name][3]}\")\n",
        "        else:\n",
        "            print(f\"No information available for the institute: {institute_name}\")\n",
        "\n",
        "    def student_info(self, slot, institute_name):\n",
        "        if institute_name in self.st_info:\n",
        "            matching_students = [info for info in self.st_info[institute_name] if info['slot'] == slot]\n",
        "            if matching_students:\n",
        "                for student in matching_students:\n",
        "                    print(student)\n",
        "            else:\n",
        "                print(\"No matching slot found.\")\n",
        "        else:\n",
        "            print(f\"No information available for the institute: {institute_name}\")\n",
        "\n",
        "\n",
        "uni = University()\n",
        "\n",
        "\n",
        "uni.adduniversity('MSIS', 2)\n",
        "uni.adduniversity('MIT', 100)\n",
        "\n",
        "uni.student_reg('Hardik', 'MSIS', 'MSIS1919', 1)\n",
        "uni.student_reg('Prabal', 'MSIS', 'MSIS1917', 2)\n",
        "uni.student_reg('Sourabh', 'MIT', 'MITS0909', 3)\n",
        "uni.student_reg('Sourabh', 'MIT', 'MITS0909', 3)\n",
        "\n",
        "\n",
        "uni.count_institute_slot('MSIS')\n",
        "\n",
        "\n",
        "uni.student_info(1, 'MSIS')\n",
        "uni.student_info(2, 'MSIS')\n",
        "uni.student_info(3, 'MSIS')\n",
        "uni.student_info(1, 'MIT')\n",
        "uni.student_info(2, 'MIT')\n"
      ]
    }
  ]
}