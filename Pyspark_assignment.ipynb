{
  "nbformat": 4,
  "nbformat_minor": 0,
  "metadata": {
    "colab": {
      "provenance": []
    },
    "kernelspec": {
      "name": "python3",
      "display_name": "Python 3"
    },
    "language_info": {
      "name": "python"
    }
  },
  "cells": [
    {
      "cell_type": "code",
      "source": [
        "pip install pyspark"
      ],
      "metadata": {
        "colab": {
          "base_uri": "https://localhost:8080/"
        },
        "id": "cjFnOPCjqrvT",
        "outputId": "dc95e281-2bd6-49a5-b1d8-ca4ff866cd0a"
      },
      "execution_count": null,
      "outputs": [
        {
          "output_type": "stream",
          "name": "stdout",
          "text": [
            "Requirement already satisfied: pyspark in /usr/local/lib/python3.10/dist-packages (3.5.3)\n",
            "Requirement already satisfied: py4j==0.10.9.7 in /usr/local/lib/python3.10/dist-packages (from pyspark) (0.10.9.7)\n"
          ]
        }
      ]
    },
    {
      "cell_type": "code",
      "execution_count": null,
      "metadata": {
        "id": "7cgnU02MoxMz"
      },
      "outputs": [],
      "source": [
        "import pyspark\n",
        "from pyspark.sql import SparkSession\n",
        "spark = SparkSession.builder.appName('Fire DF').getOrCreate()"
      ]
    },
    {
      "cell_type": "code",
      "source": [
        "from pyspark.sql.functions import *\n",
        "from pyspark.sql.types import *"
      ],
      "metadata": {
        "id": "1-kflojpqFtF"
      },
      "execution_count": null,
      "outputs": []
    },
    {
      "cell_type": "code",
      "source": [
        "df = spark.read.csv('/content/sf-fire-calls.csv', header=True, inferSchema=True)\n",
        "df.show()\n",
        "df.printSchema()"
      ],
      "metadata": {
        "colab": {
          "base_uri": "https://localhost:8080/"
        },
        "id": "hWM9_ZDFqF8d",
        "outputId": "e72d6c31-baeb-4ce9-9ae4-30c047c828a0"
      },
      "execution_count": null,
      "outputs": [
        {
          "output_type": "stream",
          "name": "stdout",
          "text": [
            "+----------+------+--------------+----------------+----------+----------+--------------------+----------------+--------------------+----+-------+---------+-----------+----+----------------+--------+-------------+-------+-------------+---------+--------------+--------------------------+----------------------+------------------+--------------------+--------------------+-------------+---------+\n",
            "|CallNumber|UnitID|IncidentNumber|        CallType|  CallDate| WatchDate|CallFinalDisposition|   AvailableDtTm|             Address|City|Zipcode|Battalion|StationArea| Box|OriginalPriority|Priority|FinalPriority|ALSUnit|CallTypeGroup|NumAlarms|      UnitType|UnitSequenceInCallDispatch|FirePreventionDistrict|SupervisorDistrict|        Neighborhood|            Location|        RowID|    Delay|\n",
            "+----------+------+--------------+----------------+----------+----------+--------------------+----------------+--------------------+----+-------+---------+-----------+----+----------------+--------+-------------+-------+-------------+---------+--------------+--------------------------+----------------------+------------------+--------------------+--------------------+-------------+---------+\n",
            "|  20110016|   T13|       2003235|  Structure Fire|01-11-2002|01-10-2002|               Other|01-11-2002 01:51|2000 Block of CAL...|  SF|  94109|      B04|         38|3362|               3|       3|            3|  false|         NULL|        1|         TRUCK|                         2|                     4|                 5|     Pacific Heights|(37.7895840679362...|020110016-T13|     2.95|\n",
            "|  20110022|   M17|       2003241|Medical Incident|01-11-2002|01-10-2002|               Other|01-11-2002 03:01|0 Block of SILVER...|  SF|  94124|      B10|         42|6495|               3|       3|            3|   true|         NULL|        1|         MEDIC|                         1|                    10|                10|Bayview Hunters P...|(37.7337623673897...|020110022-M17|      4.7|\n",
            "|  20110023|   M41|       2003242|Medical Incident|01-11-2002|01-10-2002|               Other|01-11-2002 02:39|MARKET ST/MCALLIS...|  SF|  94102|      B03|          1|1455|               3|       3|            3|   true|         NULL|        1|         MEDIC|                         2|                     3|                 6|          Tenderloin|(37.7811772186856...|020110023-M41|2.4333334|\n",
            "|  20110032|   E11|       2003250|    Vehicle Fire|01-11-2002|01-10-2002|               Other|01-11-2002 04:16|APPLETON AV/MISSI...|  SF|  94110|      B06|         32|5626|               3|       3|            3|  false|         NULL|        1|        ENGINE|                         1|                     6|                 9|      Bernal Heights|(37.7388432849018...|020110032-E11|      1.5|\n",
            "|  20110043|   B04|       2003259|          Alarms|01-11-2002|01-10-2002|               Other|01-11-2002 06:01|1400 Block of SUT...|  SF|  94109|      B04|          3|3223|               3|       3|            3|  false|         NULL|        1|         CHIEF|                         2|                     4|                 2|    Western Addition|(37.7872890372638...|020110043-B04|3.4833333|\n",
            "|  20110072|   T08|       2003279|  Structure Fire|01-11-2002|01-11-2002|               Other|01-11-2002 08:03|  BEALE ST/FOLSOM ST|  SF|  94105|      B03|         35|2122|               3|       3|            3|  false|         NULL|        1|         TRUCK|                         2|                     3|                 6|Financial Distric...|(37.7886866619654...|020110072-T08|     1.75|\n",
            "|  20110125|   E33|       2003301|          Alarms|01-11-2002|01-11-2002|               Other|01-11-2002 09:46|0 Block of FARALL...|  SF|  94112|      B09|         33|8324|               3|       3|            3|  false|         NULL|        1|        ENGINE|                         2|                     9|                11|Oceanview/Merced/...|(37.7140353531157...|020110125-E33|2.7166667|\n",
            "|  20110130|   E36|       2003304|          Alarms|01-11-2002|01-11-2002|               Other|01-11-2002 09:58|600 Block of POLK ST|  SF|  94102|      B02|          3|3114|               3|       3|            3|  false|         NULL|        1|        ENGINE|                         1|                     2|                 6|          Tenderloin|(37.7826266328595...|020110130-E36|1.7833333|\n",
            "|  20110197|   E05|       2003343|Medical Incident|01-11-2002|01-11-2002|               Other|01-11-2002 12:06|1500 Block of WEB...|  SF|  94115|      B04|          5|3513|               3|       3|            3|  false|         NULL|        1|        ENGINE|                         1|                     4|                 5|           Japantown|(37.784958590666,...|020110197-E05|1.5166667|\n",
            "|  20110215|   E06|       2003348|Medical Incident|01-11-2002|01-11-2002|               Other|01-11-2002 13:08|DIAMOND ST/MARKET ST|  SF|  94114|      B05|          6|5415|               3|       3|            3|  false|         NULL|        1|        ENGINE|                         1|                     5|                 8| Castro/Upper Market|(37.7618954753708...|020110215-E06|2.7666667|\n",
            "|  20110274|   M07|       2003381|Medical Incident|01-11-2002|01-11-2002|               Other|01-11-2002 15:31|2700 Block of MIS...|  SF|  94110|      B06|         11|5525|               1|       1|            2|   true|         NULL|        1|         MEDIC|                         1|                     6|                 9|             Mission|(37.7530339738059...|020110274-M07|2.1833334|\n",
            "|  20110275|   T15|       2003382|  Structure Fire|01-11-2002|01-11-2002|               Other|01-11-2002 14:59|BRUNSWICK ST/GUTT...|  SF|  94112|      B09|         43|6218|               3|       3|            3|  false|         NULL|        1|         TRUCK|                         1|                     9|                11|           Excelsior|(37.7105545807996...|020110275-T15|      2.5|\n",
            "|  20110304|   E03|       2003399|Medical Incident|01-11-2002|01-11-2002|               Other|01-11-2002 16:22|1000 Block of SUT...|  SF|  94109|      B04|          3|1557|               3|       3|            3|  false|         NULL|        1|        ENGINE|                         1|                     4|                 3|            Nob Hill|(37.7881263034393...|020110304-E03|2.4166667|\n",
            "|  20110308|   E14|       2003403|Medical Incident|01-11-2002|01-11-2002|               Other|01-11-2002 16:18|100 Block of 21ST...|  SF|  94121|      B07|         14|7173|               3|       3|            3|  false|         NULL|        1|        ENGINE|                         1|                     7|                 1|      Outer Richmond|(37.7850084431077...|020110308-E14|     4.95|\n",
            "|  20110313|   B10|       2003408|  Structure Fire|01-11-2002|01-11-2002|               Other|01-11-2002 16:09|700 Block of CAPP ST|  SF|  94110|      B06|          7|5472|               3|       3|            3|  false|         NULL|        1|         CHIEF|                         6|                     6|                 9|             Mission|(37.7547064357942...|020110313-B10|1.4166666|\n",
            "|  20110313|    D3|       2003408|  Structure Fire|01-11-2002|01-11-2002|               Other|01-11-2002 16:09|700 Block of CAPP ST|  SF|  94110|      B06|          7|5472|               3|       3|            3|  false|         NULL|        1|         CHIEF|                         4|                     6|                 9|             Mission|(37.7547064357942...| 020110313-D3|2.5333333|\n",
            "|  20110313|   E32|       2003408|  Structure Fire|01-11-2002|01-11-2002|               Other|01-11-2002 16:09|700 Block of CAPP ST|  SF|  94110|      B06|          7|5472|               3|       3|            3|   true|         NULL|        1|        ENGINE|                         8|                     6|                 9|             Mission|(37.7547064357942...|020110313-E32|1.8833333|\n",
            "|  20110315|   RC2|       2003409|Medical Incident|01-11-2002|01-11-2002|               Other|01-11-2002 16:34|200 Block of LAGU...|  SF|  94116|      B08|         20|8635|               3|       3|            3|   true|         NULL|        1|RESCUE CAPTAIN|                         2|                     8|                 7|  West of Twin Peaks|(37.7501117393668...|020110315-RC2|     5.35|\n",
            "|  20110330|   E14|       2003417|Medical Incident|01-11-2002|01-11-2002|               Other|01-11-2002 16:51|BALBOA ST/PARK PR...|  SF|  94118|      B07|         31|7145|               3|       3|            3|  false|         NULL|        1|        ENGINE|                         1|                     7|                 1|      Inner Richmond|(37.7768682293368...|020110330-E14|      2.0|\n",
            "|  20110330|   M12|       2003417|Medical Incident|01-11-2002|01-11-2002|               Other|01-11-2002 16:51|BALBOA ST/PARK PR...|  SF|  94118|      B07|         31|7145|               3|       3|            3|   true|         NULL|        1|         MEDIC|                         2|                     7|                 1|      Inner Richmond|(37.7768682293368...|020110330-M12|1.8166667|\n",
            "+----------+------+--------------+----------------+----------+----------+--------------------+----------------+--------------------+----+-------+---------+-----------+----+----------------+--------+-------------+-------+-------------+---------+--------------+--------------------------+----------------------+------------------+--------------------+--------------------+-------------+---------+\n",
            "only showing top 20 rows\n",
            "\n",
            "root\n",
            " |-- CallNumber: integer (nullable = true)\n",
            " |-- UnitID: string (nullable = true)\n",
            " |-- IncidentNumber: integer (nullable = true)\n",
            " |-- CallType: string (nullable = true)\n",
            " |-- CallDate: string (nullable = true)\n",
            " |-- WatchDate: string (nullable = true)\n",
            " |-- CallFinalDisposition: string (nullable = true)\n",
            " |-- AvailableDtTm: string (nullable = true)\n",
            " |-- Address: string (nullable = true)\n",
            " |-- City: string (nullable = true)\n",
            " |-- Zipcode: integer (nullable = true)\n",
            " |-- Battalion: string (nullable = true)\n",
            " |-- StationArea: string (nullable = true)\n",
            " |-- Box: string (nullable = true)\n",
            " |-- OriginalPriority: string (nullable = true)\n",
            " |-- Priority: string (nullable = true)\n",
            " |-- FinalPriority: integer (nullable = true)\n",
            " |-- ALSUnit: boolean (nullable = true)\n",
            " |-- CallTypeGroup: string (nullable = true)\n",
            " |-- NumAlarms: integer (nullable = true)\n",
            " |-- UnitType: string (nullable = true)\n",
            " |-- UnitSequenceInCallDispatch: integer (nullable = true)\n",
            " |-- FirePreventionDistrict: string (nullable = true)\n",
            " |-- SupervisorDistrict: string (nullable = true)\n",
            " |-- Neighborhood: string (nullable = true)\n",
            " |-- Location: string (nullable = true)\n",
            " |-- RowID: string (nullable = true)\n",
            " |-- Delay: double (nullable = true)\n",
            "\n"
          ]
        }
      ]
    },
    {
      "cell_type": "code",
      "source": [
        "df1 = df.select('CallType','CallDate','City','Zipcode','Neighborhood','Delay')\n",
        "#df1.show()"
      ],
      "metadata": {
        "id": "UtnFuc7vqGRO"
      },
      "execution_count": null,
      "outputs": []
    },
    {
      "cell_type": "code",
      "source": [
        "#add a new column\n",
        "df2 = df1.withColumn('Date',to_date(col('CallDate'),'MM/dd/yyyy')).drop('CallDate')\n",
        "#df2.show()"
      ],
      "metadata": {
        "id": "4CY2R0JDqGit"
      },
      "execution_count": null,
      "outputs": []
    },
    {
      "cell_type": "code",
      "source": [
        "df3 = df2.withColumn('Year',year(col('Date')))\\\n",
        ".withColumn('Week',weekofyear(col('Date')))\\\n",
        ".withColumn('Month',month(col('Date')))\\\n",
        "\n",
        "#df3.show()"
      ],
      "metadata": {
        "id": "EGFG7jjaqG3l"
      },
      "execution_count": null,
      "outputs": []
    },
    {
      "cell_type": "code",
      "source": [
        "def mapseason(data):\n",
        "  # Check if data is not None before comparison\n",
        "  if data is not None:\n",
        "    if 2 < data < 6:\n",
        "      return 'Spring'\n",
        "    elif 5 < data < 9:\n",
        "      return 'Summer'\n",
        "    elif 8 < data < 12:\n",
        "      return 'Autumn'\n",
        "    else:\n",
        "      return 'Winter'\n",
        "  # Handle None values by returning a default value or raising an exception\n",
        "  else:\n",
        "    return 'Unknown'  # or raise ValueError('Month value cannot be None')\n",
        "\n",
        "from pyspark.sql.functions import udf, col\n",
        "from pyspark.sql.types import StringType\n",
        "\n",
        "seasonDF = udf(mapseason, StringType())\n",
        "clean_df = df3.withColumn('Season',seasonDF(col('Month')))\n",
        "clean_df.show()"
      ],
      "metadata": {
        "colab": {
          "base_uri": "https://localhost:8080/"
        },
        "id": "opIgxQPww_uH",
        "outputId": "63789a41-c32c-4e49-efbc-2dd21cd4e1a6"
      },
      "execution_count": null,
      "outputs": [
        {
          "output_type": "stream",
          "name": "stdout",
          "text": [
            "+----------------+----+-------+--------------------+---------+----+----+----+-----+-------+\n",
            "|        CallType|City|Zipcode|        Neighborhood|    Delay|Date|Year|Week|Month| Season|\n",
            "+----------------+----+-------+--------------------+---------+----+----+----+-----+-------+\n",
            "|  Structure Fire|  SF|  94109|     Pacific Heights|     2.95|NULL|NULL|NULL| NULL|Unknown|\n",
            "|Medical Incident|  SF|  94124|Bayview Hunters P...|      4.7|NULL|NULL|NULL| NULL|Unknown|\n",
            "|Medical Incident|  SF|  94102|          Tenderloin|2.4333334|NULL|NULL|NULL| NULL|Unknown|\n",
            "|    Vehicle Fire|  SF|  94110|      Bernal Heights|      1.5|NULL|NULL|NULL| NULL|Unknown|\n",
            "|          Alarms|  SF|  94109|    Western Addition|3.4833333|NULL|NULL|NULL| NULL|Unknown|\n",
            "|  Structure Fire|  SF|  94105|Financial Distric...|     1.75|NULL|NULL|NULL| NULL|Unknown|\n",
            "|          Alarms|  SF|  94112|Oceanview/Merced/...|2.7166667|NULL|NULL|NULL| NULL|Unknown|\n",
            "|          Alarms|  SF|  94102|          Tenderloin|1.7833333|NULL|NULL|NULL| NULL|Unknown|\n",
            "|Medical Incident|  SF|  94115|           Japantown|1.5166667|NULL|NULL|NULL| NULL|Unknown|\n",
            "|Medical Incident|  SF|  94114| Castro/Upper Market|2.7666667|NULL|NULL|NULL| NULL|Unknown|\n",
            "|Medical Incident|  SF|  94110|             Mission|2.1833334|NULL|NULL|NULL| NULL|Unknown|\n",
            "|  Structure Fire|  SF|  94112|           Excelsior|      2.5|NULL|NULL|NULL| NULL|Unknown|\n",
            "|Medical Incident|  SF|  94109|            Nob Hill|2.4166667|NULL|NULL|NULL| NULL|Unknown|\n",
            "|Medical Incident|  SF|  94121|      Outer Richmond|     4.95|NULL|NULL|NULL| NULL|Unknown|\n",
            "|  Structure Fire|  SF|  94110|             Mission|1.4166666|NULL|NULL|NULL| NULL|Unknown|\n",
            "|  Structure Fire|  SF|  94110|             Mission|2.5333333|NULL|NULL|NULL| NULL|Unknown|\n",
            "|  Structure Fire|  SF|  94110|             Mission|1.8833333|NULL|NULL|NULL| NULL|Unknown|\n",
            "|Medical Incident|  SF|  94116|  West of Twin Peaks|     5.35|NULL|NULL|NULL| NULL|Unknown|\n",
            "|Medical Incident|  SF|  94118|      Inner Richmond|      2.0|NULL|NULL|NULL| NULL|Unknown|\n",
            "|Medical Incident|  SF|  94118|      Inner Richmond|1.8166667|NULL|NULL|NULL| NULL|Unknown|\n",
            "+----------------+----+-------+--------------------+---------+----+----+----+-----+-------+\n",
            "only showing top 20 rows\n",
            "\n"
          ]
        }
      ]
    },
    {
      "cell_type": "markdown",
      "source": [
        "1)Get yearly count of fire calls"
      ],
      "metadata": {
        "id": "eEVrxhEmssir"
      }
    },
    {
      "cell_type": "code",
      "source": [
        "\n",
        "\n",
        "yearly_call_count = clean_df.groupBy(\"Year\").count()\n",
        "yearly_call_count.show()\n"
      ],
      "metadata": {
        "colab": {
          "base_uri": "https://localhost:8080/"
        },
        "id": "DrQhQtA3xbKK",
        "outputId": "9fef762c-7e69-45db-b256-cb4dd88b9476"
      },
      "execution_count": null,
      "outputs": [
        {
          "output_type": "stream",
          "name": "stdout",
          "text": [
            "+----+-----+\n",
            "|Year|count|\n",
            "+----+-----+\n",
            "|2003| 5020|\n",
            "|2018| 5966|\n",
            "|2015| 6844|\n",
            "|2006| 4851|\n",
            "|2013| 6075|\n",
            "|NULL|70404|\n",
            "|2014| 6460|\n",
            "|2012| 5745|\n",
            "|2009| 5261|\n",
            "|2016| 6995|\n",
            "|2005| 5020|\n",
            "|2010| 5566|\n",
            "|2011| 5764|\n",
            "|2008| 5343|\n",
            "|2017| 7189|\n",
            "|2002| 4863|\n",
            "|2007| 4854|\n",
            "|2004| 4976|\n",
            "|2001| 4618|\n",
            "|2000| 3482|\n",
            "+----+-----+\n",
            "\n"
          ]
        }
      ]
    },
    {
      "cell_type": "markdown",
      "source": [
        "2)What were all the different types of fire calls in 2018?"
      ],
      "metadata": {
        "id": "Dut8GoTBswYQ"
      }
    },
    {
      "cell_type": "code",
      "source": [
        "\n",
        "fire_calls_2018 = clean_df.filter(clean_df.Year == 2018)\n",
        "\n",
        "\n",
        "distinct_call_types_2018 = fire_calls_2018.select('CallType').distinct()\n",
        "\n",
        "\n",
        "distinct_call_types_2018.show(truncate=False)"
      ],
      "metadata": {
        "colab": {
          "base_uri": "https://localhost:8080/"
        },
        "id": "BLXZHEN1xg6S",
        "outputId": "a034ca75-ff4e-419a-8038-8f0e567b7176"
      },
      "execution_count": null,
      "outputs": [
        {
          "output_type": "stream",
          "name": "stdout",
          "text": [
            "+-------------------------------+\n",
            "|CallType                       |\n",
            "+-------------------------------+\n",
            "|Elevator / Escalator Rescue    |\n",
            "|Alarms                         |\n",
            "|Odor (Strange / Unknown)       |\n",
            "|Citizen Assist / Service Call  |\n",
            "|HazMat                         |\n",
            "|Vehicle Fire                   |\n",
            "|Other                          |\n",
            "|Outside Fire                   |\n",
            "|Traffic Collision              |\n",
            "|Gas Leak (Natural and LP Gases)|\n",
            "|Water Rescue                   |\n",
            "|Electrical Hazard              |\n",
            "|Structure Fire                 |\n",
            "|Medical Incident               |\n",
            "|Fuel Spill                     |\n",
            "|Smoke Investigation (Outside)  |\n",
            "|Train / Rail Incident          |\n",
            "|Explosion                      |\n",
            "|Suspicious Package             |\n",
            "+-------------------------------+\n",
            "\n"
          ]
        }
      ]
    },
    {
      "cell_type": "markdown",
      "source": [
        "3)Which week in the year in 2018 had the most fire calls?"
      ],
      "metadata": {
        "id": "EWPKwBUxs0Ti"
      }
    },
    {
      "cell_type": "code",
      "source": [
        "\n",
        "\n",
        "from pyspark.sql.functions import count\n",
        "\n",
        "\n",
        "fire_calls_2018 = clean_df.filter(clean_df.Year == 2018)\n",
        "\n",
        "\n",
        "weekly_call_counts_2018 = fire_calls_2018.groupBy(\"Week\").agg(count(\"*\").alias(\"CallCount\"))\n",
        "\n",
        "week_with_most_calls = weekly_call_counts_2018.orderBy(col(\"CallCount\").desc()).first()\n",
        "\n",
        "print(\"Week with the most fire calls in 2018:\")\n",
        "print(week_with_most_calls)\n"
      ],
      "metadata": {
        "colab": {
          "base_uri": "https://localhost:8080/"
        },
        "id": "J0PnQqS9ukkn",
        "outputId": "c8c3eb0d-7c59-4c62-f759-8c2fddcd7479"
      },
      "execution_count": null,
      "outputs": [
        {
          "output_type": "stream",
          "name": "stdout",
          "text": [
            "Week with the most fire calls in 2018:\n",
            "Row(Week=43, CallCount=250)\n"
          ]
        }
      ]
    },
    {
      "cell_type": "code",
      "source": [
        "import pandas as pd\n",
        "import matplotlib.pyplot as plt\n",
        "panda_df = clean_df.select('Year')\\\n",
        ".groupBy('Year')\\\n",
        ".count()\\\n",
        ".orderBy('Year', ascending = True)\\\n",
        ".toPandas()\n",
        "\n",
        "panda_df.plot.line(x='Year', y='count')\n",
        "plt.show()"
      ],
      "metadata": {
        "colab": {
          "base_uri": "https://localhost:8080/",
          "height": 449
        },
        "id": "tm8u_dtrulNW",
        "outputId": "c0de318d-9fe4-455b-a45c-5ea1fe94a01e"
      },
      "execution_count": null,
      "outputs": [
        {
          "output_type": "display_data",
          "data": {
            "text/plain": [
              "<Figure size 640x480 with 1 Axes>"
            ],
            "image/png": "[encoded data removed]"
          },
          "metadata": {}
        }
      ]
    },
    {
      "cell_type": "markdown",
      "source": [
        "4)Get monthly count of fire calls based on year"
      ],
      "metadata": {
        "id": "8rFX-yXAs3WA"
      }
    },
    {
      "cell_type": "code",
      "source": [
        "\n",
        "\n",
        "monthly_counts = clean_df.groupBy('Year', 'Month').agg(count('*').alias('CallCount')).orderBy('Year', 'Month')\n",
        "monthly_counts.show()\n"
      ],
      "metadata": {
        "colab": {
          "base_uri": "https://localhost:8080/"
        },
        "id": "SWOWm5h2uk43",
        "outputId": "ac71a53d-2f80-471a-b4aa-e3f37f6bfcc0"
      },
      "execution_count": null,
      "outputs": [
        {
          "output_type": "stream",
          "name": "stdout",
          "text": [
            "+----+-----+---------+\n",
            "|Year|Month|CallCount|\n",
            "+----+-----+---------+\n",
            "|NULL| NULL|    70404|\n",
            "|2000|    4|      333|\n",
            "|2000|    5|      454|\n",
            "|2000|    6|      360|\n",
            "|2000|    7|      391|\n",
            "|2000|    8|      414|\n",
            "|2000|    9|      383|\n",
            "|2000|   10|      390|\n",
            "|2000|   11|      347|\n",
            "|2000|   12|      410|\n",
            "|2001|    1|      361|\n",
            "|2001|    2|      344|\n",
            "|2001|    3|      456|\n",
            "|2001|    4|      380|\n",
            "|2001|    5|      409|\n",
            "|2001|    6|      391|\n",
            "|2001|    7|      407|\n",
            "|2001|    8|      386|\n",
            "|2001|    9|      334|\n",
            "|2001|   10|      420|\n",
            "+----+-----+---------+\n",
            "only showing top 20 rows\n",
            "\n"
          ]
        }
      ]
    },
    {
      "cell_type": "code",
      "source": [
        "clean_df.createOrReplaceTempView('Fire')\n",
        "spark.sql('Select Year from Fire where Delay > 520').show()"
      ],
      "metadata": {
        "colab": {
          "base_uri": "https://localhost:8080/"
        },
        "id": "5HD9U4yu10Js",
        "outputId": "046002ec-b093-493a-aa7b-dd5155cf8513"
      },
      "execution_count": null,
      "outputs": [
        {
          "output_type": "stream",
          "name": "stdout",
          "text": [
            "+----+\n",
            "|Year|\n",
            "+----+\n",
            "|2003|\n",
            "|NULL|\n",
            "|2015|\n",
            "|NULL|\n",
            "|NULL|\n",
            "|2007|\n",
            "|2004|\n",
            "|NULL|\n",
            "|2000|\n",
            "+----+\n",
            "\n"
          ]
        }
      ]
    },
    {
      "cell_type": "markdown",
      "source": [
        "5)Give monthly report of fire call types for selected year"
      ],
      "metadata": {
        "id": "cDeUL07Vs7Wi"
      }
    },
    {
      "cell_type": "code",
      "source": [
        "\n",
        "\n",
        "year_to_analyze = 2018\n",
        "\n",
        "\n",
        "df_selected_year = clean_df.filter(clean_df.Year == year_to_analyze)\n",
        "\n",
        "\n",
        "monthly_call_type_counts = df_selected_year.groupBy('Month', 'CallType').agg(count('*').alias('CallCount'))\n",
        "\n",
        "monthly_call_type_counts = monthly_call_type_counts.orderBy('Month', 'CallType')\n",
        "\n",
        "\n",
        "monthly_call_type_counts.show(truncate=False)\n"
      ],
      "metadata": {
        "colab": {
          "base_uri": "https://localhost:8080/"
        },
        "id": "9guctRvH1z_s",
        "outputId": "02965e25-8eb2-4d8b-f6fa-525d4edefe20"
      },
      "execution_count": null,
      "outputs": [
        {
          "output_type": "stream",
          "name": "stdout",
          "text": [
            "+-----+-------------------------------+---------+\n",
            "|Month|CallType                       |CallCount|\n",
            "+-----+-------------------------------+---------+\n",
            "|1    |Alarms                         |72       |\n",
            "|1    |Citizen Assist / Service Call  |8        |\n",
            "|1    |Electrical Hazard              |2        |\n",
            "|1    |Elevator / Escalator Rescue    |3        |\n",
            "|1    |Fuel Spill                     |1        |\n",
            "|1    |Gas Leak (Natural and LP Gases)|4        |\n",
            "|1    |HazMat                         |1        |\n",
            "|1    |Medical Incident               |408      |\n",
            "|1    |Odor (Strange / Unknown)       |2        |\n",
            "|1    |Other                          |2        |\n",
            "|1    |Outside Fire                   |4        |\n",
            "|1    |Smoke Investigation (Outside)  |2        |\n",
            "|1    |Structure Fire                 |52       |\n",
            "|1    |Traffic Collision              |25       |\n",
            "|1    |Train / Rail Incident          |2        |\n",
            "|1    |Vehicle Fire                   |1        |\n",
            "|1    |Water Rescue                   |4        |\n",
            "|2    |Alarms                         |60       |\n",
            "|2    |Citizen Assist / Service Call  |10       |\n",
            "|2    |Electrical Hazard              |5        |\n",
            "+-----+-------------------------------+---------+\n",
            "only showing top 20 rows\n",
            "\n"
          ]
        }
      ]
    },
    {
      "cell_type": "markdown",
      "source": [
        "6)Give top five fire call types for every season of selected year (seasons are like Spring, summer, fall winter etc)."
      ],
      "metadata": {
        "id": "4apZec_es-oV"
      }
    },
    {
      "cell_type": "code",
      "source": [
        "\n",
        "\n",
        "year_to_analyze = 2018  # Replace with the desired year\n",
        "\n",
        "# Filter the DataFrame for the selected year\n",
        "df_selected_year = clean_df.filter(clean_df.Year == year_to_analyze)\n",
        "\n",
        "# Group by season and call type, then count the occurrences\n",
        "seasonal_call_type_counts = df_selected_year.groupBy('Season', 'CallType').agg(count('*').alias('CallCount'))\n",
        "\n",
        "# Order the results by season and call count in descending order\n",
        "seasonal_call_type_counts = seasonal_call_type_counts.orderBy('Season', col('CallCount').desc())\n",
        "\n",
        "# Window function to get rank within each season\n",
        "from pyspark.sql.window import Window\n",
        "\n",
        "windowSpec = Window.partitionBy('Season').orderBy(col('CallCount').desc())\n",
        "ranked_call_types = seasonal_call_type_counts.withColumn('rank', dense_rank().over(windowSpec))\n",
        "\n",
        "# Filter for the top 5 call types in each season\n",
        "top_5_call_types = ranked_call_types.filter(ranked_call_types.rank <= 5)\n",
        "\n",
        "# Show the results\n",
        "top_5_call_types.show(truncate=False)\n"
      ],
      "metadata": {
        "colab": {
          "base_uri": "https://localhost:8080/"
        },
        "id": "mE2oPLvi1z5F",
        "outputId": "d06d623b-3aa9-48ac-cedc-ebc4942cb0f5"
      },
      "execution_count": null,
      "outputs": [
        {
          "output_type": "stream",
          "name": "stdout",
          "text": [
            "+------+-----------------------------+---------+----+\n",
            "|Season|CallType                     |CallCount|rank|\n",
            "+------+-----------------------------+---------+----+\n",
            "|Autumn|Medical Incident             |819      |1   |\n",
            "|Autumn|Alarms                       |153      |2   |\n",
            "|Autumn|Structure Fire               |111      |3   |\n",
            "|Autumn|Traffic Collision            |57       |4   |\n",
            "|Autumn|Outside Fire                 |21       |5   |\n",
            "|Spring|Medical Incident             |1299     |1   |\n",
            "|Spring|Alarms                       |170      |2   |\n",
            "|Spring|Structure Fire               |157      |3   |\n",
            "|Spring|Traffic Collision            |77       |4   |\n",
            "|Spring|Citizen Assist / Service Call|20       |5   |\n",
            "|Spring|Other                        |20       |5   |\n",
            "|Summer|Medical Incident             |1232     |1   |\n",
            "|Summer|Alarms                       |209      |2   |\n",
            "|Summer|Structure Fire               |159      |3   |\n",
            "|Summer|Traffic Collision            |74       |4   |\n",
            "|Summer|Outside Fire                 |40       |5   |\n",
            "|Winter|Medical Incident             |757      |1   |\n",
            "|Winter|Alarms                       |132      |2   |\n",
            "|Winter|Structure Fire               |110      |3   |\n",
            "|Winter|Traffic Collision            |48       |4   |\n",
            "+------+-----------------------------+---------+----+\n",
            "only showing top 20 rows\n",
            "\n"
          ]
        }
      ]
    },
    {
      "cell_type": "markdown",
      "source": [
        "7)Whether fire type calls are seasonal?"
      ],
      "metadata": {
        "id": "zYtW8x71tBdc"
      }
    },
    {
      "cell_type": "code",
      "source": [
        "\n",
        "\n",
        "from pyspark.sql.functions import count, col, dense_rank\n",
        "from pyspark.sql.window import Window\n",
        "\n",
        "year_to_analyze = 2018\n",
        "\n",
        "\n",
        "df_selected_year = clean_df.filter(clean_df.Year == year_to_analyze)\n",
        "\n",
        "seasonal_call_type_counts = df_selected_year.groupBy('Season', 'CallType').agg(count('*').alias('CallCount'))\n",
        "\n",
        "seasonal_call_type_counts = seasonal_call_type_counts.orderBy('Season', col('CallCount').desc())\n",
        "\n",
        "windowSpec = Window.partitionBy('Season').orderBy(col('CallCount').desc())\n",
        "ranked_call_types = seasonal_call_type_counts.withColumn('rank', dense_rank().over(windowSpec))\n",
        "\n",
        "top_5_call_types = ranked_call_types.filter(ranked_call_types.rank <= 5)\n",
        "\n",
        "top_5_call_types.show(truncate=False)\n",
        "\n",
        "print(\"Analyzing if fire type calls are seasonal in\", year_to_analyze, \"...\")\n",
        "seasonal_call_type_counts.groupBy('Season').agg(countDistinct('CallType').alias('DistinctCallTypes')).show()\n",
        "\n",
        "\n"
      ],
      "metadata": {
        "id": "ZI6SWN-2BtWp",
        "colab": {
          "base_uri": "https://localhost:8080/"
        },
        "outputId": "7ec17cde-d761-4d14-bffc-96f8d53e6366"
      },
      "execution_count": null,
      "outputs": [
        {
          "output_type": "stream",
          "name": "stdout",
          "text": [
            "+------+-----------------------------+---------+----+\n",
            "|Season|CallType                     |CallCount|rank|\n",
            "+------+-----------------------------+---------+----+\n",
            "|Autumn|Medical Incident             |819      |1   |\n",
            "|Autumn|Alarms                       |153      |2   |\n",
            "|Autumn|Structure Fire               |111      |3   |\n",
            "|Autumn|Traffic Collision            |57       |4   |\n",
            "|Autumn|Outside Fire                 |21       |5   |\n",
            "|Spring|Medical Incident             |1299     |1   |\n",
            "|Spring|Alarms                       |170      |2   |\n",
            "|Spring|Structure Fire               |157      |3   |\n",
            "|Spring|Traffic Collision            |77       |4   |\n",
            "|Spring|Citizen Assist / Service Call|20       |5   |\n",
            "|Spring|Other                        |20       |5   |\n",
            "|Summer|Medical Incident             |1232     |1   |\n",
            "|Summer|Alarms                       |209      |2   |\n",
            "|Summer|Structure Fire               |159      |3   |\n",
            "|Summer|Traffic Collision            |74       |4   |\n",
            "|Summer|Outside Fire                 |40       |5   |\n",
            "|Winter|Medical Incident             |757      |1   |\n",
            "|Winter|Alarms                       |132      |2   |\n",
            "|Winter|Structure Fire               |110      |3   |\n",
            "|Winter|Traffic Collision            |48       |4   |\n",
            "+------+-----------------------------+---------+----+\n",
            "only showing top 20 rows\n",
            "\n",
            "Analyzing if fire type calls are seasonal in 2018 ...\n",
            "+------+-----------------+\n",
            "|Season|DistinctCallTypes|\n",
            "+------+-----------------+\n",
            "|Spring|               19|\n",
            "|Summer|               15|\n",
            "|Autumn|               16|\n",
            "|Winter|               17|\n",
            "+------+-----------------+\n",
            "\n"
          ]
        }
      ]
    },
    {
      "cell_type": "markdown",
      "source": [
        "8)What months within the year 2018 saw the highest number of fire calls?"
      ],
      "metadata": {
        "id": "1YJTxbPJtFRP"
      }
    },
    {
      "cell_type": "code",
      "source": [
        "df_2018 = clean_df.filter(clean_df.Year == 2018)\n",
        "\n",
        "# Group by month and count the number of calls\n",
        "monthly_counts_2018 = df_2018.groupBy('Month').agg(count('*').alias('CallCount'))\n",
        "\n",
        "\n",
        "top_months_2018 = monthly_counts_2018.orderBy(col('CallCount').desc())\n",
        "\n",
        "top_months_2018.show()\n"
      ],
      "metadata": {
        "id": "So-vhXHsBtRO",
        "colab": {
          "base_uri": "https://localhost:8080/"
        },
        "outputId": "23ab96b3-2ce0-49c3-e2b6-c1124c2ea064"
      },
      "execution_count": null,
      "outputs": [
        {
          "output_type": "stream",
          "name": "stdout",
          "text": [
            "+-----+---------+\n",
            "|Month|CallCount|\n",
            "+-----+---------+\n",
            "|   10|      655|\n",
            "|    5|      640|\n",
            "|    3|      633|\n",
            "|    8|      603|\n",
            "|    7|      595|\n",
            "|    1|      593|\n",
            "|    6|      592|\n",
            "|    9|      572|\n",
            "|    4|      558|\n",
            "|    2|      525|\n",
            "+-----+---------+\n",
            "\n"
          ]
        }
      ]
    },
    {
      "cell_type": "markdown",
      "source": [
        "9)Find which type of fire call is major calltype in each year"
      ],
      "metadata": {
        "id": "lDHVdteStIeC"
      }
    },
    {
      "cell_type": "code",
      "source": [
        "\n",
        "\n",
        "from pyspark.sql.window import Window\n",
        "from pyspark.sql.functions import row_number\n",
        "\n",
        "# Group by year and call type, then count the occurrences\n",
        "yearly_call_type_counts = clean_df.groupBy('Year', 'CallType').agg(count('*').alias('CallCount'))\n",
        "\n",
        "windowSpec = Window.partitionBy('Year').orderBy(col('CallCount').desc())\n",
        "ranked_call_types = yearly_call_type_counts.withColumn('rank', row_number().over(windowSpec))\n",
        "\n",
        "major_call_type_by_year = ranked_call_types.filter(ranked_call_types.rank == 1).drop('rank')\n",
        "\n",
        "\n",
        "major_call_type_by_year.show(truncate=False)\n"
      ],
      "metadata": {
        "id": "BzShqofKBtMW",
        "colab": {
          "base_uri": "https://localhost:8080/"
        },
        "outputId": "4917502f-44c6-4f84-ae56-79273c28f478"
      },
      "execution_count": null,
      "outputs": [
        {
          "output_type": "stream",
          "name": "stdout",
          "text": [
            "+----+----------------+---------+\n",
            "|Year|CallType        |CallCount|\n",
            "+----+----------------+---------+\n",
            "|NULL|Medical Incident|45889    |\n",
            "|2000|Medical Incident|2188     |\n",
            "|2001|Medical Incident|2784     |\n",
            "|2002|Medical Incident|3033     |\n",
            "|2003|Medical Incident|2959     |\n",
            "|2004|Medical Incident|3091     |\n",
            "|2005|Medical Incident|3025     |\n",
            "|2006|Medical Incident|2994     |\n",
            "|2007|Medical Incident|3050     |\n",
            "|2008|Medical Incident|3407     |\n",
            "|2009|Medical Incident|3372     |\n",
            "|2010|Medical Incident|3683     |\n",
            "|2011|Medical Incident|3765     |\n",
            "|2012|Medical Incident|3728     |\n",
            "|2013|Medical Incident|4036     |\n",
            "|2014|Medical Incident|4271     |\n",
            "|2015|Medical Incident|4653     |\n",
            "|2016|Medical Incident|4829     |\n",
            "|2017|Medical Incident|4930     |\n",
            "|2018|Medical Incident|4107     |\n",
            "+----+----------------+---------+\n",
            "\n"
          ]
        }
      ]
    },
    {
      "cell_type": "markdown",
      "source": [
        "10)Find out average delay in response for each call type"
      ],
      "metadata": {
        "id": "YZURJMFdtL6E"
      }
    },
    {
      "cell_type": "code",
      "source": [
        "\n",
        "average_delay_by_call_type = clean_df.groupBy('CallType').agg(avg('Delay').alias('AverageDelay'))\n",
        "\n",
        "\n",
        "average_delay_by_call_type.show(truncate=False)\n"
      ],
      "metadata": {
        "id": "j4sTlZ8GBtEK",
        "colab": {
          "base_uri": "https://localhost:8080/"
        },
        "outputId": "4788f1cc-d092-4fa6-9a9e-b2ad5f2e13c0"
      },
      "execution_count": null,
      "outputs": [
        {
          "output_type": "stream",
          "name": "stdout",
          "text": [
            "+--------------------------------------------+------------------+\n",
            "|CallType                                    |AverageDelay      |\n",
            "+--------------------------------------------+------------------+\n",
            "|Elevator / Escalator Rescue                 |4.337821933487857 |\n",
            "|Marine Fire                                 |6.928571314285715 |\n",
            "|Aircraft Emergency                          |3.7731481500000004|\n",
            "|Confined Space / Structure Collapse         |6.915384576923078 |\n",
            "|Administrative                              |12.261111333333332|\n",
            "|Alarms                                      |3.5427290545084076|\n",
            "|Odor (Strange / Unknown)                    |4.947959182000003 |\n",
            "|Citizen Assist / Service Call               |5.473342576604595 |\n",
            "|HazMat                                      |7.527016126612902 |\n",
            "|Watercraft in Distress                      |6.886904817857142 |\n",
            "|Explosion                                   |4.110674168539326 |\n",
            "|Oil Spill                                   |4.977777761904762 |\n",
            "|Vehicle Fire                                |3.9039227134074928|\n",
            "|Suspicious Package                          |6.5766667199999995|\n",
            "|Extrication / Entrapped (Machinery, Vehicle)|4.391666678571427 |\n",
            "|Other                                       |5.505155432421978 |\n",
            "|Outside Fire                                |4.181948425367714 |\n",
            "|Traffic Collision                           |3.789132088873234 |\n",
            "|Assist Police                               |26.981903994285716|\n",
            "|Gas Leak (Natural and LP Gases)             |4.58339877840314  |\n",
            "+--------------------------------------------+------------------+\n",
            "only showing top 20 rows\n",
            "\n"
          ]
        }
      ]
    },
    {
      "cell_type": "markdown",
      "source": [
        "11)Find which calltype has maximum average delay time."
      ],
      "metadata": {
        "id": "0W21KaB9tO_s"
      }
    },
    {
      "cell_type": "code",
      "source": [
        "max_average_delay_call_type = average_delay_by_call_type.orderBy(col('AverageDelay').desc()).first()\n",
        "\n",
        "if max_average_delay_call_type:\n",
        "    print(f\"The call type with the maximum average delay time is '{max_average_delay_call_type['CallType']}' with an average delay of {max_average_delay_call_type['AverageDelay']}.\")\n",
        "else:\n",
        "    print(\"No call types found with delay information.\")\n"
      ],
      "metadata": {
        "colab": {
          "base_uri": "https://localhost:8080/"
        },
        "id": "xRLBWMIL33je",
        "outputId": "4cdfde32-1a8d-4800-d72f-8fcccb90a54d"
      },
      "execution_count": null,
      "outputs": [
        {
          "output_type": "stream",
          "name": "stdout",
          "text": [
            "The call type with the maximum average delay time is 'Mutual Aid / Assist Outside Agency' with an average delay of 38.41666631111111.\n"
          ]
        }
      ]
    },
    {
      "cell_type": "markdown",
      "source": [
        "12)Which neighborhood in San Francisco generated the most fire calls in 2018?"
      ],
      "metadata": {
        "id": "ung5H9XMtSRz"
      }
    },
    {
      "cell_type": "code",
      "source": [
        "df_2018 = clean_df.filter(clean_df.Year == 2018)\n",
        "\n",
        "neighborhood_counts_2018 = df_2018.groupBy('Neighborhood').agg(count('*').alias('CallCount'))\n",
        "ls\n",
        "neighborhood_with_most_calls_2018 = neighborhood_counts_2018.orderBy(col('CallCount').desc()).first()\n",
        "\n",
        "if neighborhood_with_most_calls_2018:\n",
        "\n",
        "    print(f\"The neighborhood with the most fire calls in 2018 was '{neighborhood_with_most_calls_2018['Neighborhood']}' with {neighborhood_with_most_calls_2018['CallCount']} calls.\")\n",
        "else:\n",
        "    print(\"No fire calls found in 2018 with neighborhood information.\")\n"
      ],
      "metadata": {
        "colab": {
          "base_uri": "https://localhost:8080/"
        },
        "id": "66Choxxd33hm",
        "outputId": "20c18f84-03e2-49a6-83c7-7cd782388576"
      },
      "execution_count": null,
      "outputs": [
        {
          "output_type": "stream",
          "name": "stdout",
          "text": [
            "The neighborhood with the most fire calls in 2018 was 'Tenderloin' with 810 calls.\n"
          ]
        }
      ]
    },
    {
      "cell_type": "markdown",
      "source": [
        "13)Which neighborhoods had the worst response times to fire calls in 2018?"
      ],
      "metadata": {
        "id": "bAWsef1VtVYh"
      }
    },
    {
      "cell_type": "code",
      "source": [
        "\n",
        "df_2018 = clean_df.filter(clean_df.Year == 2018)\n",
        "\n",
        "average_delay_by_neighborhood_2018 = df_2018.groupBy('Neighborhood').agg(avg('Delay').alias('AverageDelay'))\n",
        "\n",
        "worst_response_neighborhoods_2018 = average_delay_by_neighborhood_2018.orderBy(col('AverageDelay').desc())\n",
        "\n",
        "worst_response_neighborhoods_2018.show(10, truncate=False)\n"
      ],
      "metadata": {
        "colab": {
          "base_uri": "https://localhost:8080/"
        },
        "id": "JIiShyK733fG",
        "outputId": "0670ce8f-471f-4516-fbb1-a46f4c2a82f0"
      },
      "execution_count": null,
      "outputs": [
        {
          "output_type": "stream",
          "name": "stdout",
          "text": [
            "+------------------------------+------------------+\n",
            "|Neighborhood                  |AverageDelay      |\n",
            "+------------------------------+------------------+\n",
            "|Chinatown                     |7.817278217064224 |\n",
            "|Presidio                      |5.428174589523809 |\n",
            "|Haight Ashbury                |5.314837454512193 |\n",
            "|Bayview Hunters Point         |4.857858665316453 |\n",
            "|Treasure Island               |4.804365111904763 |\n",
            "|Presidio Heights              |4.739534930232559 |\n",
            "|Financial District/South Beach|4.6475415686334065|\n",
            "|West of Twin Peaks            |4.540188190080644 |\n",
            "|Inner Richmond                |4.530000012375    |\n",
            "|Tenderloin                    |4.256399195086418 |\n",
            "+------------------------------+------------------+\n",
            "only showing top 10 rows\n",
            "\n"
          ]
        }
      ]
    },
    {
      "cell_type": "markdown",
      "source": [
        "14)Find out calltype whose average response delay time is maximum, increases, decreases or has no relation over years."
      ],
      "metadata": {
        "id": "ERmEXmWQtYRB"
      }
    },
    {
      "cell_type": "code",
      "source": [
        "from pyspark.sql.functions import avg\n",
        "\n",
        "average_delay_by_year_call_type = clean_df.groupBy('Year', 'CallType').agg(avg('Delay').alias('AverageDelay'))\n",
        "\n",
        "average_delay_by_year_call_type = average_delay_by_year_call_type.orderBy('Year', 'AverageDelay')\n",
        "\n",
        "average_delay_by_year_call_type.show(truncate=False)\n",
        "\n",
        "max_delay_call_type_by_year = average_delay_by_year_call_type.groupBy('Year').agg(max('AverageDelay').alias('MaxAverageDelay'))\n",
        "\n",
        "max_delay_call_type_by_year.show(truncate=False)\n",
        "\n",
        "\n",
        "medical_incident_delays = average_delay_by_year_call_type.filter(average_delay_by_year_call_type.CallType == \"Medical Incident\")\n",
        "\n",
        "medical_incident_delays.show()\n",
        "\n",
        "max_average_delay_call_type = average_delay_by_year_call_type.groupBy('CallType').agg(avg('AverageDelay').alias('OverallAverageDelay')) \\\n",
        "    .orderBy(col('OverallAverageDelay').desc()).first()\n",
        "s\n",
        "if max_average_delay_call_type:\n",
        "    print(f\"The call type with the maximum overall average delay time is '{max_average_delay_call_type['CallType']}' with an average delay of {max_average_delay_call_type['OverallAverageDelay']}.\")\n",
        "else:\n",
        "    print(\"No call types found with delay information.\")\n"
      ],
      "metadata": {
        "colab": {
          "base_uri": "https://localhost:8080/"
        },
        "id": "jpn584t433cI",
        "outputId": "3bb845d6-bb2e-4e62-dc6a-570eb3ab121b"
      },
      "execution_count": null,
      "outputs": [
        {
          "output_type": "stream",
          "name": "stdout",
          "text": [
            "+----+--------------------------------------------+------------------+\n",
            "|Year|CallType                                    |AverageDelay      |\n",
            "+----+--------------------------------------------+------------------+\n",
            "|NULL|Structure Fire                              |3.5766799768120077|\n",
            "|NULL|Alarms                                      |3.7022797419728826|\n",
            "|NULL|Explosion                                   |3.7268939318181817|\n",
            "|NULL|Extrication / Entrapped (Machinery, Vehicle)|3.892857157142857 |\n",
            "|NULL|Traffic Collision                           |3.8979299352788375|\n",
            "|NULL|Medical Incident                            |3.9244256067834646|\n",
            "|NULL|Outside Fire                                |4.156771970054464 |\n",
            "|NULL|Vehicle Fire                                |4.173945774096385 |\n",
            "|NULL|Elevator / Escalator Rescue                 |4.3374094277173905|\n",
            "|NULL|Gas Leak (Natural and LP Gases)             |4.480147897952217 |\n",
            "|NULL|Smoke Investigation (Outside)               |4.544171767484664 |\n",
            "|NULL|Oil Spill                                   |4.609259300000001 |\n",
            "|NULL|High Angle Rescue                           |4.858730176190477 |\n",
            "|NULL|Electrical Hazard                           |5.0108007234636895|\n",
            "|NULL|Odor (Strange / Unknown)                    |5.119945359234973 |\n",
            "|NULL|Aircraft Emergency                          |5.429999959999999 |\n",
            "|NULL|Citizen Assist / Service Call               |5.431160900987778 |\n",
            "|NULL|Water Rescue                                |5.518640352697368 |\n",
            "|NULL|Other                                       |5.658504956805492 |\n",
            "|NULL|Watercraft in Distress                      |5.7354166125      |\n",
            "+----+--------------------------------------------+------------------+\n",
            "only showing top 20 rows\n",
            "\n",
            "+----+------------------+\n",
            "|Year|MaxAverageDelay   |\n",
            "+----+------------------+\n",
            "|2003|628.61664         |\n",
            "|2007|20.4              |\n",
            "|2018|130.84166625      |\n",
            "|2015|25.616667         |\n",
            "|2006|6.572222333333333 |\n",
            "|2013|8.40666646        |\n",
            "|NULL|47.86428525714285 |\n",
            "|2014|14.566667         |\n",
            "|2004|8.23333319        |\n",
            "|2012|12.188889333333334|\n",
            "|2009|13.086666875000002|\n",
            "|2016|32.683334         |\n",
            "|2001|8.6190477         |\n",
            "|2005|31.983334         |\n",
            "|2000|7.262773281215997 |\n",
            "|2010|8.8222222         |\n",
            "|2011|8.958333360000001 |\n",
            "|2008|12.465972259166664|\n",
            "|2017|8.827777844444444 |\n",
            "|2002|9.483334          |\n",
            "+----+------------------+\n",
            "\n",
            "+----+----------------+------------------+\n",
            "|Year|        CallType|      AverageDelay|\n",
            "+----+----------------+------------------+\n",
            "|NULL|Medical Incident|3.9244256067834646|\n",
            "|2000|Medical Incident| 4.451995732979886|\n",
            "|2001|Medical Incident| 3.761685830316105|\n",
            "|2002|Medical Incident| 3.730816574200469|\n",
            "|2003|Medical Incident| 4.272017577130784|\n",
            "|2004|Medical Incident|3.9574894844471213|\n",
            "|2005|Medical Incident| 3.987790630135541|\n",
            "|2006|Medical Incident| 3.942256738810965|\n",
            "|2007|Medical Incident| 3.882907100215083|\n",
            "|2008|Medical Incident| 3.450709326412094|\n",
            "|2009|Medical Incident|3.2443505299228965|\n",
            "|2010|Medical Incident| 3.459376416095572|\n",
            "|2011|Medical Incident|3.5697609616334596|\n",
            "|2012|Medical Incident|3.6525080488277926|\n",
            "|2013|Medical Incident|3.8579245149727535|\n",
            "|2014|Medical Incident|4.5724030310625166|\n",
            "|2015|Medical Incident|3.7396016882205028|\n",
            "|2016|Medical Incident|3.7765755516670088|\n",
            "|2017|Medical Incident|  3.92417850089169|\n",
            "|2018|Medical Incident| 3.934769914472847|\n",
            "+----+----------------+------------------+\n",
            "\n",
            "The call type with the maximum overall average delay time is 'Assist Police' with an average delay of 51.847691596071435.\n"
          ]
        }
      ]
    },
    {
      "cell_type": "markdown",
      "source": [
        "15)For each year find out which city has more calltypes"
      ],
      "metadata": {
        "id": "22Ti6qdTuAUY"
      }
    },
    {
      "cell_type": "code",
      "source": [
        "city_with_most_calltypes_by_year = clean_df.groupBy('Year', 'City').agg(countDistinct('CallType').alias('DistinctCallTypeCount'))\n",
        "\n",
        "windowSpec = Window.partitionBy('Year').orderBy(col('DistinctCallTypeCount').desc())\n",
        "ranked_cities = city_with_most_calltypes_by_year.withColumn('rank', row_number().over(windowSpec))\n",
        "\n",
        "top_city_by_year = ranked_cities.filter(ranked_cities.rank == 1).drop('rank')\n",
        "\n",
        "top_city_by_year.show(truncate=False)\n"
      ],
      "metadata": {
        "colab": {
          "base_uri": "https://localhost:8080/"
        },
        "id": "L40kUgtM33UY",
        "outputId": "2f46a000-1011-4e9a-ee71-160d23d3acf2"
      },
      "execution_count": null,
      "outputs": [
        {
          "output_type": "stream",
          "name": "stdout",
          "text": [
            "+----+-------------+---------------------+\n",
            "|Year|City         |DistinctCallTypeCount|\n",
            "+----+-------------+---------------------+\n",
            "|NULL|SF           |29                   |\n",
            "|2000|SF           |17                   |\n",
            "|2001|SF           |20                   |\n",
            "|2002|SF           |19                   |\n",
            "|2003|SF           |23                   |\n",
            "|2004|SF           |22                   |\n",
            "|2005|SF           |24                   |\n",
            "|2006|SF           |22                   |\n",
            "|2007|SF           |23                   |\n",
            "|2008|SF           |22                   |\n",
            "|2009|SF           |21                   |\n",
            "|2010|SF           |19                   |\n",
            "|2011|SF           |22                   |\n",
            "|2012|SF           |22                   |\n",
            "|2013|SF           |22                   |\n",
            "|2014|San Francisco|20                   |\n",
            "|2015|San Francisco|22                   |\n",
            "|2016|San Francisco|23                   |\n",
            "|2017|San Francisco|23                   |\n",
            "|2018|San Francisco|19                   |\n",
            "+----+-------------+---------------------+\n",
            "\n"
          ]
        }
      ]
    },
    {
      "cell_type": "markdown",
      "source": [
        "16)For every year find count of calltypes for 5 cities which has more calls."
      ],
      "metadata": {
        "id": "mwjzEu0GuEuo"
      }
    },
    {
      "cell_type": "code",
      "source": [
        "from pyspark.sql.functions import desc\n",
        "\n",
        "yearly_city_calltype_counts = clean_df.groupBy('Year', 'City', 'CallType').agg(count('*').alias('CallCount'))\n",
        "\n",
        "windowSpec = Window.partitionBy('Year').orderBy(desc('CallCount'))\n",
        "ranked_cities = yearly_city_calltype_counts.withColumn('rank', dense_rank().over(windowSpec))\n",
        "\n",
        "top_5_cities_by_year = ranked_cities.filter(ranked_cities.rank <= 5)\n",
        "\n",
        "top_5_cities_calltype_count = top_5_cities_by_year.groupBy('Year', 'City').agg(count('CallType').alias('CallTypeCount'))\n",
        "\n",
        "top_5_cities_calltype_count.show(truncate=False)\n"
      ],
      "metadata": {
        "colab": {
          "base_uri": "https://localhost:8080/"
        },
        "id": "fEhhUDdG4IZz",
        "outputId": "36918e1f-c10a-4330-b085-7971d5239bbf"
      },
      "execution_count": null,
      "outputs": [
        {
          "output_type": "stream",
          "name": "stdout",
          "text": [
            "+----+-------------+-------------+\n",
            "|Year|City         |CallTypeCount|\n",
            "+----+-------------+-------------+\n",
            "|2000|SF           |5            |\n",
            "|2001|SF           |5            |\n",
            "|2002|SF           |5            |\n",
            "|2003|SF           |5            |\n",
            "|2004|SF           |5            |\n",
            "|2005|SF           |5            |\n",
            "|2006|SF           |5            |\n",
            "|2007|SF           |5            |\n",
            "|2008|SF           |5            |\n",
            "|2009|SF           |5            |\n",
            "|2010|SF           |5            |\n",
            "|2011|SF           |5            |\n",
            "|2012|SF           |5            |\n",
            "|2013|SF           |5            |\n",
            "|2014|San Francisco|3            |\n",
            "|2014|SAN FRANCISCO|1            |\n",
            "|2014|SF           |1            |\n",
            "|2015|San Francisco|5            |\n",
            "|2016|San Francisco|5            |\n",
            "|2017|San Francisco|5            |\n",
            "+----+-------------+-------------+\n",
            "only showing top 20 rows\n",
            "\n"
          ]
        }
      ]
    },
    {
      "cell_type": "markdown",
      "source": [
        "17)Is there a correlation between neighborhood, zip code, and number of fire calls?\n"
      ],
      "metadata": {
        "id": "NWZmsKZ7uJHu"
      }
    },
    {
      "cell_type": "code",
      "source": [
        "\n",
        "neighborhood_zipcode_call_counts = clean_df.groupBy('Neighborhood', 'Zipcode').agg(count('*').alias('CallCount'))\n",
        "\n",
        "\n",
        "pandas_df = neighborhood_zipcode_call_counts.toPandas()\n",
        "\n",
        "correlation = pandas_df['Zipcode'].corr(pandas_df['CallCount'])\n",
        "\n",
        "print(f\"Correlation between zip code and number of fire calls: {correlation}\")\n",
        "\n"
      ],
      "metadata": {
        "colab": {
          "base_uri": "https://localhost:8080/"
        },
        "id": "iE3_f7Qv4Xdk",
        "outputId": "f6597160-9515-442b-a49f-3c0a9fd111db"
      },
      "execution_count": null,
      "outputs": [
        {
          "output_type": "stream",
          "name": "stdout",
          "text": [
            "Correlation between zip code and number of fire calls: -0.20751415354281233\n"
          ]
        }
      ]
    }
  ]
}