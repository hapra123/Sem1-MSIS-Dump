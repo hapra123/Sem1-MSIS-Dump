{
  "nbformat": 4,
  "nbformat_minor": 0,
  "metadata": {
    "colab": {
      "provenance": []
    },
    "kernelspec": {
      "name": "python3",
      "display_name": "Python 3"
    },
    "language_info": {
      "name": "python"
    }
  },
  "cells": [
    {
      "cell_type": "code",
      "source": [
        "!pip install pyspark"
      ],
      "metadata": {
        "colab": {
          "base_uri": "https://localhost:8080/"
        },
        "id": "JDNOSSIMPa7z",
        "outputId": "897907cd-2b40-4dd2-a1eb-77349857cd72"
      },
      "execution_count": 2,
      "outputs": [
        {
          "output_type": "stream",
          "name": "stdout",
          "text": [
            "Requirement already satisfied: pyspark in /usr/local/lib/python3.10/dist-packages (3.5.3)\n",
            "Requirement already satisfied: py4j==0.10.9.7 in /usr/local/lib/python3.10/dist-packages (from pyspark) (0.10.9.7)\n"
          ]
        }
      ]
    },
    {
      "cell_type": "code",
      "source": [
        "import pyspark\n",
        "from pyspark.sql import SparkSession\n",
        "from pyspark.sql.window import Window\n",
        "spark = SparkSession.builder.appName('Indian food').getOrCreate()"
      ],
      "metadata": {
        "id": "cIAcNLRHPa3o"
      },
      "execution_count": 3,
      "outputs": []
    },
    {
      "cell_type": "code",
      "source": [
        "from pyspark.sql.functions import *\n",
        "from pyspark.sql.types import *"
      ],
      "metadata": {
        "id": "SBNw9NVmPawW"
      },
      "execution_count": 4,
      "outputs": []
    },
    {
      "cell_type": "code",
      "source": [
        "df = spark.read.csv('/content/indian_food (1).csv', header=True, inferSchema=True)"
      ],
      "metadata": {
        "id": "VXovxbzaQU2k"
      },
      "execution_count": 18,
      "outputs": []
    },
    {
      "cell_type": "code",
      "source": [
        "df.show()"
      ],
      "metadata": {
        "colab": {
          "base_uri": "https://localhost:8080/"
        },
        "id": "jl2btn3_QcXJ",
        "outputId": "41b59ab6-2e69-4eed-fc11-28709d361ea5"
      },
      "execution_count": 19,
      "outputs": [
        {
          "output_type": "stream",
          "name": "stdout",
          "text": [
            "+--------------+--------------------+----------+---------+---------+--------------+-------+-------------+------+\n",
            "|          name|         ingredients|      diet|prep_time|cook_time|flavor_profile| course|        state|region|\n",
            "+--------------+--------------------+----------+---------+---------+--------------+-------+-------------+------+\n",
            "|    Balu shahi|Maida flour, yogu...|vegetarian|       45|       25|         sweet|dessert|  West Bengal|  East|\n",
            "|        Boondi|Gram flour, ghee,...|vegetarian|       80|       30|         sweet|dessert|    Rajasthan|  West|\n",
            "|Gajar ka halwa|Carrots, milk, su...|vegetarian|       15|       60|         sweet|dessert|       Punjab| North|\n",
            "|        Ghevar|Flour, ghee, kewr...|vegetarian|       15|       30|         sweet|dessert|    Rajasthan|  West|\n",
            "|   Gulab jamun|Milk powder, plai...|vegetarian|       15|       40|         sweet|dessert|  West Bengal|  East|\n",
            "|        Imarti|Sugar syrup, lent...|vegetarian|       10|       50|         sweet|dessert|  West Bengal|  East|\n",
            "|        Jalebi|Maida, corn flour...|vegetarian|       10|       50|         sweet|dessert|Uttar Pradesh| North|\n",
            "|    Kaju katli|Cashews, ghee, ca...|vegetarian|       10|       20|         sweet|dessert|           -1|    -1|\n",
            "|      Kalakand|Milk, cottage che...|vegetarian|       20|       30|         sweet|dessert|  West Bengal|  East|\n",
            "|         Kheer|Milk, rice, sugar...|vegetarian|       10|       40|         sweet|dessert|           -1|    -1|\n",
            "|         Laddu|Gram flour, ghee,...|vegetarian|       10|       40|         sweet|dessert|           -1|    -1|\n",
            "|         Lassi|Yogurt, milk, nut...|vegetarian|        5|        5|         sweet|dessert|       Punjab| North|\n",
            "|     Nankhatai|Refined flour, be...|vegetarian|       20|       30|         sweet|dessert|           -1|    -1|\n",
            "|         Petha|Firm white pumpki...|vegetarian|       10|       30|         sweet|dessert|Uttar Pradesh| North|\n",
            "|        Phirni|   Rice, sugar, nuts|vegetarian|       30|       20|         sweet|dessert|       Odisha|  East|\n",
            "|         Rabri|Condensed milk, s...|vegetarian|       10|       45|         sweet|dessert|Uttar Pradesh| North|\n",
            "|        Sheera|Semolina, ghee, n...|vegetarian|       10|       25|         sweet|dessert|  Maharashtra|  West|\n",
            "|       Singori|Khoa, coconut, mo...|vegetarian|       10|       20|         sweet|dessert|  Uttarakhand| North|\n",
            "|   Sohan halwa|Corn flour, ghee,...|vegetarian|       10|       60|         sweet|dessert|Uttar Pradesh| North|\n",
            "|   Sohan papdi|Gram flour, ghee,...|vegetarian|       -1|       60|         sweet|dessert|  Maharashtra|  West|\n",
            "+--------------+--------------------+----------+---------+---------+--------------+-------+-------------+------+\n",
            "only showing top 20 rows\n",
            "\n"
          ]
        }
      ]
    },
    {
      "cell_type": "markdown",
      "source": [
        "**1)Find out how many unique dishes are present.**"
      ],
      "metadata": {
        "id": "j_CMFkvLN4LM"
      }
    },
    {
      "cell_type": "code",
      "execution_count": 20,
      "metadata": {
        "colab": {
          "base_uri": "https://localhost:8080/"
        },
        "id": "oFIRyDfXMhF1",
        "outputId": "134b66cc-a934-4901-a009-6c9195987395"
      },
      "outputs": [
        {
          "output_type": "execute_result",
          "data": {
            "text/plain": [
              "255"
            ]
          },
          "metadata": {},
          "execution_count": 20
        }
      ],
      "source": [
        "df.select(col('name')).distinct().count()"
      ]
    },
    {
      "cell_type": "markdown",
      "source": [
        "**2) Which state has more dishes?**"
      ],
      "metadata": {
        "id": "41ZyK_6oQ0Vh"
      }
    },
    {
      "cell_type": "code",
      "source": [
        "df1=df.select(col('state')).groupBy('state').count()\n",
        "df1.select('state','count').filter(col('count')==df1.agg({'count':'max'}).collect()[0][0]).show()\n",
        ""
      ],
      "metadata": {
        "colab": {
          "base_uri": "https://localhost:8080/"
        },
        "id": "3ct89FjcQxN_",
        "outputId": "1ec9568a-ee97-4b76-cdf7-6e436c4de07d"
      },
      "execution_count": 21,
      "outputs": [
        {
          "output_type": "stream",
          "name": "stdout",
          "text": [
            "+-------+-----+\n",
            "|  state|count|\n",
            "+-------+-----+\n",
            "|Gujarat|   35|\n",
            "+-------+-----+\n",
            "\n"
          ]
        }
      ]
    },
    {
      "cell_type": "markdown",
      "source": [
        "**3. How many dishes from state Karnataka?**"
      ],
      "metadata": {
        "id": "znlojX82RFo1"
      }
    },
    {
      "cell_type": "code",
      "source": [
        "df.where(col('state')=='Karnataka').count()"
      ],
      "metadata": {
        "colab": {
          "base_uri": "https://localhost:8080/"
        },
        "id": "GAOlqg3lQ_Xz",
        "outputId": "288f4277-41cf-4845-c839-e73cbb0f2836"
      },
      "execution_count": 22,
      "outputs": [
        {
          "output_type": "execute_result",
          "data": {
            "text/plain": [
              "6"
            ]
          },
          "metadata": {},
          "execution_count": 22
        }
      ]
    },
    {
      "cell_type": "markdown",
      "source": [
        "**4. List number of unique regions**"
      ],
      "metadata": {
        "id": "K7PMQoiuRVGM"
      }
    },
    {
      "cell_type": "code",
      "source": [
        "df.select(col('region')).distinct().show()"
      ],
      "metadata": {
        "colab": {
          "base_uri": "https://localhost:8080/"
        },
        "id": "DT27Ft1iReRa",
        "outputId": "d3a7f64a-113e-4ae2-eb90-ae331d618367"
      },
      "execution_count": 24,
      "outputs": [
        {
          "output_type": "stream",
          "name": "stdout",
          "text": [
            "+----------+\n",
            "|    region|\n",
            "+----------+\n",
            "|        -1|\n",
            "|     South|\n",
            "|   Central|\n",
            "|      East|\n",
            "|      West|\n",
            "|North East|\n",
            "|     North|\n",
            "|      NULL|\n",
            "+----------+\n",
            "\n"
          ]
        }
      ]
    },
    {
      "cell_type": "markdown",
      "source": [
        "**5)Count number of dishes from each region.**"
      ],
      "metadata": {
        "id": "DLD3LeY3TSa_"
      }
    },
    {
      "cell_type": "code",
      "source": [
        "df.select(col('region')).groupBy('region').count().show()"
      ],
      "metadata": {
        "colab": {
          "base_uri": "https://localhost:8080/"
        },
        "id": "O9qOyF61TII5",
        "outputId": "b54659dc-11b6-4267-9111-083cb75dd704"
      },
      "execution_count": 25,
      "outputs": [
        {
          "output_type": "stream",
          "name": "stdout",
          "text": [
            "+----------+-----+\n",
            "|    region|count|\n",
            "+----------+-----+\n",
            "|        -1|   13|\n",
            "|      NULL|    1|\n",
            "|     South|   59|\n",
            "|   Central|    3|\n",
            "|      East|   31|\n",
            "|      West|   74|\n",
            "|North East|   25|\n",
            "|     North|   49|\n",
            "+----------+-----+\n",
            "\n"
          ]
        }
      ]
    },
    {
      "cell_type": "markdown",
      "source": [
        "**6)List unique 'flavor_profile' and 'course'**"
      ],
      "metadata": {
        "id": "m9OZl130TcEE"
      }
    },
    {
      "cell_type": "code",
      "source": [
        "df.select(col('flavor_profile'),col('course')).distinct().show()"
      ],
      "metadata": {
        "colab": {
          "base_uri": "https://localhost:8080/"
        },
        "id": "pWxJ1-8dTYS1",
        "outputId": "56a6b6a2-7c72-4cc6-89ad-79eac99f1cc6"
      },
      "execution_count": 26,
      "outputs": [
        {
          "output_type": "stream",
          "name": "stdout",
          "text": [
            "+--------------+-----------+\n",
            "|flavor_profile|     course|\n",
            "+--------------+-----------+\n",
            "|        bitter|      snack|\n",
            "|         spicy|    starter|\n",
            "|          sour|main course|\n",
            "|            -1|      snack|\n",
            "|            -1|main course|\n",
            "|         sweet|main course|\n",
            "|        bitter|main course|\n",
            "|         spicy|      snack|\n",
            "|         sweet|    dessert|\n",
            "|         spicy|main course|\n",
            "+--------------+-----------+\n",
            "\n"
          ]
        }
      ]
    },
    {
      "cell_type": "markdown",
      "source": [
        "**7)Which state has more 'main course'?**"
      ],
      "metadata": {
        "id": "02XXIvNiTlHA"
      }
    },
    {
      "cell_type": "code",
      "source": [
        "df1=df.select('state').groupBy('state').count()\n",
        "df1.select('state','count').where(col('count')==df1.agg({'count':'max'}).collect()[0][0]).show()\n",
        ""
      ],
      "metadata": {
        "colab": {
          "base_uri": "https://localhost:8080/"
        },
        "id": "MIXCEc5wTijG",
        "outputId": "956b50b9-f624-441c-87d8-247f672267d1"
      },
      "execution_count": 27,
      "outputs": [
        {
          "output_type": "stream",
          "name": "stdout",
          "text": [
            "+-------+-----+\n",
            "|  state|count|\n",
            "+-------+-----+\n",
            "|Gujarat|   35|\n",
            "+-------+-----+\n",
            "\n"
          ]
        }
      ]
    },
    {
      "cell_type": "markdown",
      "source": [
        "**8. Give the %of dishes from each region.**"
      ],
      "metadata": {
        "id": "7Tiw_EA1TuZv"
      }
    },
    {
      "cell_type": "code",
      "source": [
        "total=df.count()\n",
        "df.select('region').groupBy('region').count().withColumn('percentage',col('count')/ total*100).show()\n",
        ""
      ],
      "metadata": {
        "colab": {
          "base_uri": "https://localhost:8080/"
        },
        "id": "7zIBRRBvTtUV",
        "outputId": "4a9405a3-a55f-46eb-8c41-8554e9168bc4"
      },
      "execution_count": 28,
      "outputs": [
        {
          "output_type": "stream",
          "name": "stdout",
          "text": [
            "+----------+-----+-------------------+\n",
            "|    region|count|         percentage|\n",
            "+----------+-----+-------------------+\n",
            "|        -1|   13|  5.098039215686274|\n",
            "|      NULL|    1|0.39215686274509803|\n",
            "|     South|   59| 23.137254901960784|\n",
            "|   Central|    3| 1.1764705882352942|\n",
            "|      East|   31| 12.156862745098039|\n",
            "|      West|   74|  29.01960784313726|\n",
            "|North East|   25|  9.803921568627452|\n",
            "|     North|   49| 19.215686274509807|\n",
            "+----------+-----+-------------------+\n",
            "\n"
          ]
        }
      ]
    },
    {
      "cell_type": "markdown",
      "source": [
        "**9)List the states which has more dishes from each region.**"
      ],
      "metadata": {
        "id": "oBkRrDNxTypm"
      }
    },
    {
      "cell_type": "code",
      "source": [
        "df1=df.select('state','region').groupBy('state','region').count()\n",
        "df1.select('state','region','count').filter(col('count')==df1.agg({'count':'max'}).collect()[0][0]).show()\n",
        ""
      ],
      "metadata": {
        "colab": {
          "base_uri": "https://localhost:8080/"
        },
        "id": "N_lXDplXTzP2",
        "outputId": "ffcf5cfe-592e-43ea-df8d-de6d49c260ce"
      },
      "execution_count": 29,
      "outputs": [
        {
          "output_type": "stream",
          "name": "stdout",
          "text": [
            "+-------+------+-----+\n",
            "|  state|region|count|\n",
            "+-------+------+-----+\n",
            "|Gujarat|  West|   35|\n",
            "+-------+------+-----+\n",
            "\n"
          ]
        }
      ]
    },
    {
      "cell_type": "markdown",
      "source": [
        "WEATHER PROGRAM"
      ],
      "metadata": {
        "id": "_8JI1JKvUFxt"
      }
    },
    {
      "cell_type": "code",
      "source": [
        "import pyspark\n",
        "from pyspark.sql import SparkSession\n",
        "spark = SparkSession.builder.appName('Weather Analysis').getOrCreate()"
      ],
      "metadata": {
        "id": "vaSPl_ZhT8Jz"
      },
      "execution_count": 52,
      "outputs": []
    },
    {
      "cell_type": "code",
      "source": [
        "from pyspark.sql.types import *\n",
        "from pyspark.sql.functions import *"
      ],
      "metadata": {
        "id": "v_IIIu3HUcK2"
      },
      "execution_count": 53,
      "outputs": []
    },
    {
      "cell_type": "code",
      "source": [
        "df = spark.read.csv('/content/weather_data.csv', header=True, inferSchema=True)"
      ],
      "metadata": {
        "id": "gnEYAheAUgqp"
      },
      "execution_count": 54,
      "outputs": []
    },
    {
      "cell_type": "code",
      "source": [
        "df = df.select([col for col in df.columns if col != '_c0'])\n",
        "df.show()"
      ],
      "metadata": {
        "colab": {
          "base_uri": "https://localhost:8080/"
        },
        "id": "GqFlWmxSUmJD",
        "outputId": "77609a43-0488-4554-e182-339c04ee1175"
      },
      "execution_count": 55,
      "outputs": [
        {
          "output_type": "stream",
          "name": "stdout",
          "text": [
            "+----+-----+-----+-----+-----+-----+-----+-----+-----+-----+-----+-----+-----+\n",
            "|YEAR|  JAN|  FEB|  MAR|  APR|  MAY|  JUN|  JUL|  AUG|  SEP|  OCT|  NOV|  DEC|\n",
            "+----+-----+-----+-----+-----+-----+-----+-----+-----+-----+-----+-----+-----+\n",
            "|1901|17.99|19.43|23.49|26.41|28.28| 28.6|27.49|26.98|26.26|25.08|21.73|18.95|\n",
            "|1902| 19.0|20.39| 24.1|26.54|28.68|28.44|27.29|27.05|25.95|24.37|21.33|18.78|\n",
            "|1903|18.32|19.79|22.46|26.03|27.93|28.41|28.04|26.63|26.34|24.57|20.96|18.29|\n",
            "|1904|17.77|19.39|22.95|26.73|27.83|27.85|26.84|26.73|25.84|24.36|21.07|18.84|\n",
            "|1905| 17.4|17.79|21.78|24.84|28.32|28.69|27.67|27.47|26.29|26.16|22.07|18.71|\n",
            "|1906| 17.5|19.14|22.21|26.53|29.06|28.02|27.46|26.82|26.23|24.75|21.93|19.55|\n",
            "|1907|19.27|19.42|22.03|26.98|27.52|27.66|27.28|26.38|26.26|24.72|22.11|18.46|\n",
            "|1908|18.35|19.73|22.93|27.06|28.07|28.49|27.16|26.41|25.74|24.25|21.06|18.15|\n",
            "|1909|17.79|19.05| 23.4|25.76|27.97|27.67|26.56|26.43|25.47|24.37|22.01|18.86|\n",
            "|1910|18.14|19.72| 22.9|25.96|28.36|27.72|26.93|26.61|25.98|24.04|20.72|18.05|\n",
            "|1911|18.52|19.18|22.05| 26.0|28.55|28.02|27.44|27.04|26.22|24.57| 21.1|18.76|\n",
            "|1912| 18.6|20.84|22.93|26.21| 28.3|28.53|27.49|26.68|25.81|24.44| 21.0|18.44|\n",
            "|1913| 18.2|19.98|22.15|26.61|27.95|27.91| 27.0| 26.8|26.02|24.35|20.92| 18.7|\n",
            "|1914|18.96|19.66|22.63|25.73|28.24|28.46|27.29|26.49|26.38|23.97|21.87|18.73|\n",
            "|1915|17.93| 19.0|22.69|26.23|29.17|28.58|27.77|27.32|26.82|25.46|22.18|18.31|\n",
            "|1916|18.52|19.68|24.24|26.84|28.16|27.81|27.08|26.77| 26.0| 24.6|21.03|18.17|\n",
            "|1917|18.16|19.94|22.46|25.29|26.97|27.41|27.15|26.64|25.79|23.85| 20.8|18.39|\n",
            "|1918|17.25|19.58|22.64|25.26|28.27|27.58|27.74|26.97| 26.0|24.54|21.71|18.37|\n",
            "|1919|18.78|19.15|23.15|26.19| 28.2| 28.3|27.28|26.84|25.84|24.36|21.48|18.58|\n",
            "|1920|18.27|19.16|23.02|25.73|27.06|27.76|27.48|26.61|26.34|24.85|21.84|18.78|\n",
            "+----+-----+-----+-----+-----+-----+-----+-----+-----+-----+-----+-----+-----+\n",
            "only showing top 20 rows\n",
            "\n"
          ]
        }
      ]
    },
    {
      "cell_type": "markdown",
      "source": [
        "**1. Add column average temperature for each year**"
      ],
      "metadata": {
        "id": "YXBfavH1U1Nb"
      }
    },
    {
      "cell_type": "code",
      "source": [
        "df2 = df.withColumn('Average',(col('JAN')+col('FEB')+col('MAR')+col('APR')+col('MAY')+col('JUN')+col('JUL')+col('AUG')+col('SEP')+col('OCT')+col('NOV')+col('DEC'))/12)\n",
        "df2.show()"
      ],
      "metadata": {
        "colab": {
          "base_uri": "https://localhost:8080/"
        },
        "id": "6HXP6ypGUtQf",
        "outputId": "c50790bd-d2d4-4e0b-f51b-533df934bf4f"
      },
      "execution_count": 56,
      "outputs": [
        {
          "output_type": "stream",
          "name": "stdout",
          "text": [
            "+----+-----+-----+-----+-----+-----+-----+-----+-----+-----+-----+-----+-----+------------------+\n",
            "|YEAR|  JAN|  FEB|  MAR|  APR|  MAY|  JUN|  JUL|  AUG|  SEP|  OCT|  NOV|  DEC|           Average|\n",
            "+----+-----+-----+-----+-----+-----+-----+-----+-----+-----+-----+-----+-----+------------------+\n",
            "|1901|17.99|19.43|23.49|26.41|28.28| 28.6|27.49|26.98|26.26|25.08|21.73|18.95|24.224166666666665|\n",
            "|1902| 19.0|20.39| 24.1|26.54|28.68|28.44|27.29|27.05|25.95|24.37|21.33|18.78|24.326666666666664|\n",
            "|1903|18.32|19.79|22.46|26.03|27.93|28.41|28.04|26.63|26.34|24.57|20.96|18.29|23.980833333333333|\n",
            "|1904|17.77|19.39|22.95|26.73|27.83|27.85|26.84|26.73|25.84|24.36|21.07|18.84|23.849999999999998|\n",
            "|1905| 17.4|17.79|21.78|24.84|28.32|28.69|27.67|27.47|26.29|26.16|22.07|18.71|           23.9325|\n",
            "|1906| 17.5|19.14|22.21|26.53|29.06|28.02|27.46|26.82|26.23|24.75|21.93|19.55|24.099999999999998|\n",
            "|1907|19.27|19.42|22.03|26.98|27.52|27.66|27.28|26.38|26.26|24.72|22.11|18.46|24.007499999999997|\n",
            "|1908|18.35|19.73|22.93|27.06|28.07|28.49|27.16|26.41|25.74|24.25|21.06|18.15|             23.95|\n",
            "|1909|17.79|19.05| 23.4|25.76|27.97|27.67|26.56|26.43|25.47|24.37|22.01|18.86|23.778333333333336|\n",
            "|1910|18.14|19.72| 22.9|25.96|28.36|27.72|26.93|26.61|25.98|24.04|20.72|18.05|23.760833333333338|\n",
            "|1911|18.52|19.18|22.05| 26.0|28.55|28.02|27.44|27.04|26.22|24.57| 21.1|18.76|23.954166666666666|\n",
            "|1912| 18.6|20.84|22.93|26.21| 28.3|28.53|27.49|26.68|25.81|24.44| 21.0|18.44|24.105833333333337|\n",
            "|1913| 18.2|19.98|22.15|26.61|27.95|27.91| 27.0| 26.8|26.02|24.35|20.92| 18.7|23.882500000000004|\n",
            "|1914|18.96|19.66|22.63|25.73|28.24|28.46|27.29|26.49|26.38|23.97|21.87|18.73|24.034166666666668|\n",
            "|1915|17.93| 19.0|22.69|26.23|29.17|28.58|27.77|27.32|26.82|25.46|22.18|18.31|24.288333333333338|\n",
            "|1916|18.52|19.68|24.24|26.84|28.16|27.81|27.08|26.77| 26.0| 24.6|21.03|18.17|24.075000000000003|\n",
            "|1917|18.16|19.94|22.46|25.29|26.97|27.41|27.15|26.64|25.79|23.85| 20.8|18.39| 23.57083333333333|\n",
            "|1918|17.25|19.58|22.64|25.26|28.27|27.58|27.74|26.97| 26.0|24.54|21.71|18.37|23.825833333333332|\n",
            "|1919|18.78|19.15|23.15|26.19| 28.2| 28.3|27.28|26.84|25.84|24.36|21.48|18.58|24.012500000000003|\n",
            "|1920|18.27|19.16|23.02|25.73|27.06|27.76|27.48|26.61|26.34|24.85|21.84|18.78| 23.90833333333333|\n",
            "+----+-----+-----+-----+-----+-----+-----+-----+-----+-----+-----+-----+-----+------------------+\n",
            "only showing top 20 rows\n",
            "\n"
          ]
        }
      ]
    },
    {
      "cell_type": "markdown",
      "source": [
        "**2. Add row average temperature of each month**"
      ],
      "metadata": {
        "id": "HWYHgSTtU8CA"
      }
    },
    {
      "cell_type": "code",
      "source": [
        "df2 = df.select([cols for cols in df.columns if cols != 'YEAR'])\n",
        "avg_dic = {}\n",
        "for i in df2.columns:\n",
        "  avg_dic[i] = df.select(i).agg({i:'avg'}).collect()[0][0]\n",
        "avg_dic"
      ],
      "metadata": {
        "colab": {
          "base_uri": "https://localhost:8080/"
        },
        "id": "QsTpl22ZU6JO",
        "outputId": "53f32705-7ded-43eb-8f28-308d28df8fc4"
      },
      "execution_count": 57,
      "outputs": [
        {
          "output_type": "execute_result",
          "data": {
            "text/plain": [
              "{'JAN': 18.42324786324786,\n",
              " 'FEB': 20.137948717948717,\n",
              " 'MAR': 23.434188034188036,\n",
              " 'APR': 26.514102564102565,\n",
              " 'MAY': 28.386410256410255,\n",
              " 'JUN': 28.300940170940162,\n",
              " 'JUL': 27.369230769230775,\n",
              " 'AUG': 26.940085470085464,\n",
              " 'SEP': 26.342649572649577,\n",
              " 'OCT': 24.742051282051282,\n",
              " 'NOV': 21.765726495726508,\n",
              " 'DEC': 19.173333333333332}"
            ]
          },
          "metadata": {},
          "execution_count": 57
        }
      ]
    },
    {
      "cell_type": "code",
      "source": [
        "new_row = Row(_c0='Average', YEAR='----', JAN=avg_dic['JAN'], FEB=avg_dic['FEB'], MAR=avg_dic['MAR'], APR=avg_dic['APR'],\n",
        "                                          MAY=avg_dic['MAY'], JUN=avg_dic['JUN'], JUL=avg_dic['JUL'], AUG=avg_dic['AUG'],\n",
        "                                          SEP=avg_dic['SEP'], OCT=avg_dic['OCT'], NOV=avg_dic['NOV'], DEC=avg_dic['DEC']\n",
        "             )\n",
        "new_row_df = spark.createDataFrame([new_row])\n",
        "df_new = spark.read.csv('/content/weather_data.csv',header=True,inferSchema=True)\n",
        "df_new = df_new.union(new_row_df)\n",
        "spark.createDataFrame(df_new.tail(10)).show()"
      ],
      "metadata": {
        "colab": {
          "base_uri": "https://localhost:8080/"
        },
        "id": "qeLB9578VBVw",
        "outputId": "cadf0de6-5b39-4404-a135-275613fad456"
      },
      "execution_count": 58,
      "outputs": [
        {
          "output_type": "stream",
          "name": "stdout",
          "text": [
            "+-------+----+-----------------+------------------+------------------+------------------+------------------+------------------+------------------+------------------+------------------+------------------+------------------+------------------+\n",
            "|    _c0|YEAR|              JAN|               FEB|               MAR|               APR|               MAY|               JUN|               JUL|               AUG|               SEP|               OCT|               NOV|               DEC|\n",
            "+-------+----+-----------------+------------------+------------------+------------------+------------------+------------------+------------------+------------------+------------------+------------------+------------------+------------------+\n",
            "|    108|2009|            19.79|             21.66|             24.55|             27.35|             28.71|             28.77|             27.83|             27.85|             27.11|              25.2|             22.31|             20.22|\n",
            "|    109|2010|            19.15|             21.23|             26.53|              28.4|             29.19|             28.51|             27.55|             27.33|              26.6|             25.58|             22.98|             19.22|\n",
            "|    110|2011|            18.32|             20.79|             24.11|              26.1|             28.92|              28.6|              27.6|              27.2|              26.7|             25.51|             22.84|             19.84|\n",
            "|    111|2012|            18.25|             20.43|             23.98|             26.89|             28.72|             28.91|             27.98|             27.31|             26.65|             24.85|             22.26|             19.91|\n",
            "|    112|2013|            18.88|             21.07|             24.53|             26.97|             29.06|             28.24|              27.5|             27.22|             26.87|             25.63|             22.18|             19.69|\n",
            "|    113|2014|            18.81|             20.35|             23.34|             26.91|             28.45|             29.42|             28.07|             27.42|             26.61|             25.38|             22.53|              19.5|\n",
            "|    114|2015|            19.02|             21.23|             23.52|             26.52|             28.82|             28.15|             28.03|             27.64|             27.04|             25.82|             22.95|             20.21|\n",
            "|    115|2016|            20.92|             23.58|             26.61|             29.56|             30.41|              29.7|             28.18|             28.17|             27.72|             26.81|              23.9|             21.89|\n",
            "|    116|2017|            20.59|             23.08|             25.58|             29.17|             30.47|             29.44|             28.31|             28.12|             28.11|             27.24|             23.92|             21.47|\n",
            "|Average|----|18.42324786324786|20.137948717948717|23.434188034188036|26.514102564102565|28.386410256410255|28.300940170940162|27.369230769230775|26.940085470085464|26.342649572649577|24.742051282051282|21.765726495726508|19.173333333333332|\n",
            "+-------+----+-----------------+------------------+------------------+------------------+------------------+------------------+------------------+------------------+------------------+------------------+------------------+------------------+\n",
            "\n"
          ]
        }
      ]
    },
    {
      "cell_type": "markdown",
      "source": [
        "**3. Add columns Min and Max for each year with corresponding values**"
      ],
      "metadata": {
        "id": "dwQLyWZQVWWC"
      }
    },
    {
      "cell_type": "code",
      "source": [
        "df3 = df.withColumn('Min',least(col('JAN'),col('FEB'),col('MAR'),col('APR'),col('MAY'),col('JUN'),col('JUL'),col('AUG'),col('SEP'),col('OCT'),col('NOV'),col('DEC')))\\\n",
        "         .withColumn('Max',greatest(col('JAN'),col('FEB'),col('MAR'),col('APR'),col('MAY'),col('JUN'),col('JUL'),col('AUG'),col('SEP'),col('OCT'),col('NOV'),col('DEC')))\n",
        "df3.show()"
      ],
      "metadata": {
        "colab": {
          "base_uri": "https://localhost:8080/"
        },
        "id": "6q5uVb0hVFwi",
        "outputId": "e98c82ed-f9d8-44cd-d123-4f963a9d13c6"
      },
      "execution_count": 59,
      "outputs": [
        {
          "output_type": "stream",
          "name": "stdout",
          "text": [
            "+----+-----+-----+-----+-----+-----+-----+-----+-----+-----+-----+-----+-----+-----+-----+\n",
            "|YEAR|  JAN|  FEB|  MAR|  APR|  MAY|  JUN|  JUL|  AUG|  SEP|  OCT|  NOV|  DEC|  Min|  Max|\n",
            "+----+-----+-----+-----+-----+-----+-----+-----+-----+-----+-----+-----+-----+-----+-----+\n",
            "|1901|17.99|19.43|23.49|26.41|28.28| 28.6|27.49|26.98|26.26|25.08|21.73|18.95|17.99| 28.6|\n",
            "|1902| 19.0|20.39| 24.1|26.54|28.68|28.44|27.29|27.05|25.95|24.37|21.33|18.78|18.78|28.68|\n",
            "|1903|18.32|19.79|22.46|26.03|27.93|28.41|28.04|26.63|26.34|24.57|20.96|18.29|18.29|28.41|\n",
            "|1904|17.77|19.39|22.95|26.73|27.83|27.85|26.84|26.73|25.84|24.36|21.07|18.84|17.77|27.85|\n",
            "|1905| 17.4|17.79|21.78|24.84|28.32|28.69|27.67|27.47|26.29|26.16|22.07|18.71| 17.4|28.69|\n",
            "|1906| 17.5|19.14|22.21|26.53|29.06|28.02|27.46|26.82|26.23|24.75|21.93|19.55| 17.5|29.06|\n",
            "|1907|19.27|19.42|22.03|26.98|27.52|27.66|27.28|26.38|26.26|24.72|22.11|18.46|18.46|27.66|\n",
            "|1908|18.35|19.73|22.93|27.06|28.07|28.49|27.16|26.41|25.74|24.25|21.06|18.15|18.15|28.49|\n",
            "|1909|17.79|19.05| 23.4|25.76|27.97|27.67|26.56|26.43|25.47|24.37|22.01|18.86|17.79|27.97|\n",
            "|1910|18.14|19.72| 22.9|25.96|28.36|27.72|26.93|26.61|25.98|24.04|20.72|18.05|18.05|28.36|\n",
            "|1911|18.52|19.18|22.05| 26.0|28.55|28.02|27.44|27.04|26.22|24.57| 21.1|18.76|18.52|28.55|\n",
            "|1912| 18.6|20.84|22.93|26.21| 28.3|28.53|27.49|26.68|25.81|24.44| 21.0|18.44|18.44|28.53|\n",
            "|1913| 18.2|19.98|22.15|26.61|27.95|27.91| 27.0| 26.8|26.02|24.35|20.92| 18.7| 18.2|27.95|\n",
            "|1914|18.96|19.66|22.63|25.73|28.24|28.46|27.29|26.49|26.38|23.97|21.87|18.73|18.73|28.46|\n",
            "|1915|17.93| 19.0|22.69|26.23|29.17|28.58|27.77|27.32|26.82|25.46|22.18|18.31|17.93|29.17|\n",
            "|1916|18.52|19.68|24.24|26.84|28.16|27.81|27.08|26.77| 26.0| 24.6|21.03|18.17|18.17|28.16|\n",
            "|1917|18.16|19.94|22.46|25.29|26.97|27.41|27.15|26.64|25.79|23.85| 20.8|18.39|18.16|27.41|\n",
            "|1918|17.25|19.58|22.64|25.26|28.27|27.58|27.74|26.97| 26.0|24.54|21.71|18.37|17.25|28.27|\n",
            "|1919|18.78|19.15|23.15|26.19| 28.2| 28.3|27.28|26.84|25.84|24.36|21.48|18.58|18.58| 28.3|\n",
            "|1920|18.27|19.16|23.02|25.73|27.06|27.76|27.48|26.61|26.34|24.85|21.84|18.78|18.27|27.76|\n",
            "+----+-----+-----+-----+-----+-----+-----+-----+-----+-----+-----+-----+-----+-----+-----+\n",
            "only showing top 20 rows\n",
            "\n"
          ]
        }
      ]
    },
    {
      "cell_type": "markdown",
      "source": [
        "**4. Create dataframe called 'decade', storing average temperatures of each month in the respective decade. Decade 1910 is from 1901 to 1910.**"
      ],
      "metadata": {
        "id": "EQVa0ScCVcoA"
      }
    },
    {
      "cell_type": "code",
      "source": [
        "decade = df.groupBy(floor(col(\"YEAR\") / 10) * 10).agg(avg(\"JAN\").alias('JAN'),avg(\"FEB\").alias('FEB'),avg(\"MAR\").alias('MAR'),avg(\"APR\").alias('APR'),avg(\"MAY\").alias('MAY'),\n",
        "    avg(\"JUN\").alias('JUN'),avg(\"JUL\").alias('JUL'),avg(\"AUG\").alias('AUG'),avg(\"SEP\").alias('SEP'),avg(\"OCT\").alias('OCT'),avg(\"NOV\").alias('NOV'),avg(\"DEC\").alias('DEC'))\n",
        "\n",
        "decade.withColumnRenamed('(floor((YEAR / 10)) * 10)','YEAR').orderBy('YEAR').show()\n",
        ""
      ],
      "metadata": {
        "colab": {
          "base_uri": "https://localhost:8080/"
        },
        "id": "MuBw4fvoVavm",
        "outputId": "89f61612-ac27-4499-c60b-31399c5fdbc5"
      },
      "execution_count": 60,
      "outputs": [
        {
          "output_type": "stream",
          "name": "stdout",
          "text": [
            "+----+------------------+------------------+------------------+------------------+------------------+------------------+------------------+------------------+------------------+------------------+------------------+------------------+\n",
            "|YEAR|               JAN|               FEB|               MAR|               APR|               MAY|               JUN|               JUL|               AUG|               SEP|               OCT|               NOV|               DEC|\n",
            "+----+------------------+------------------+------------------+------------------+------------------+------------------+------------------+------------------+------------------+------------------+------------------+------------------+\n",
            "|1900|18.154444444444444| 19.34777777777778| 22.81666666666667|             26.32|28.184444444444445|28.203333333333337|             27.31|26.766666666666666| 26.04222222222222|24.736666666666668|21.585555555555555| 18.73222222222222|\n",
            "|1910|            18.306|            19.673|            22.784|            26.032|28.217000000000002|            28.032|            27.317|26.816000000000003|26.085999999999995|            24.418|21.281000000000002|             18.45|\n",
            "|1920|            18.271|            19.941|23.462000000000003|            26.462|            28.407|28.232999999999997|            27.296|            26.769|26.098000000000003|24.377999999999997|21.301000000000002|18.846999999999998|\n",
            "|1930|18.162000000000003|19.857000000000003|            23.067|26.172999999999995|28.360000000000003|            28.117|            27.219|26.812000000000005|26.259999999999998|            24.517|            21.413|            18.983|\n",
            "|1940|            18.144|            19.742|            23.213|              26.4|            28.551|28.359999999999996|27.347999999999995|26.928999999999995|26.264000000000003|24.700999999999997|            21.586|            19.005|\n",
            "|1950|18.451999999999998|            20.018|            23.414|26.365999999999996|28.302999999999997|28.253999999999998|            27.162|26.768999999999995|26.259999999999998|24.505000000000003|21.502999999999993|            19.195|\n",
            "|1960|            18.094|            20.213|            23.407|26.196999999999996|            27.956|28.279000000000003|27.270000000000003|26.870000000000005|26.241000000000003|            24.556|            21.631|19.090999999999998|\n",
            "|1970|            18.291|19.865000000000002|            23.266|26.637999999999998|28.113999999999997|28.151999999999997|27.193999999999996|            26.725|26.189999999999998|            24.715|            21.807|            19.022|\n",
            "|1980|            18.424|20.128999999999998|23.362000000000002|            26.537|            28.258|            28.311|27.334000000000003|26.982999999999997|            26.449|24.743000000000002|            21.736|            19.353|\n",
            "|1990|            18.662|20.651999999999997|            23.636|26.514000000000003|28.413999999999998|28.485999999999997|27.512999999999998|            27.089|26.615999999999996|24.842999999999996|            22.161|            19.519|\n",
            "|2000|            19.013|            20.935|24.214000000000006|            27.156|28.770999999999997|            28.417|27.666000000000004|            27.306|26.677000000000003|25.160999999999998|            22.457|            19.831|\n",
            "|2010|           19.2425|             21.47|            24.775|27.565000000000005|            29.255|          28.87125|27.902500000000003|27.551250000000003|           27.0375|           25.8525|            22.945|          20.21625|\n",
            "+----+------------------+------------------+------------------+------------------+------------------+------------------+------------------+------------------+------------------+------------------+------------------+------------------+\n",
            "\n"
          ]
        }
      ]
    },
    {
      "cell_type": "markdown",
      "source": [
        "**5. Which year is the hottest year? (Based on avg temp)**"
      ],
      "metadata": {
        "id": "NRHb_QnFVc87"
      }
    },
    {
      "cell_type": "code",
      "source": [
        "df2.show()"
      ],
      "metadata": {
        "colab": {
          "base_uri": "https://localhost:8080/"
        },
        "id": "7LxqF3aOVdVH",
        "outputId": "f8979eb0-4d0d-45b9-b39c-d2e7dd2731a6"
      },
      "execution_count": 61,
      "outputs": [
        {
          "output_type": "stream",
          "name": "stdout",
          "text": [
            "+-----+-----+-----+-----+-----+-----+-----+-----+-----+-----+-----+-----+\n",
            "|  JAN|  FEB|  MAR|  APR|  MAY|  JUN|  JUL|  AUG|  SEP|  OCT|  NOV|  DEC|\n",
            "+-----+-----+-----+-----+-----+-----+-----+-----+-----+-----+-----+-----+\n",
            "|17.99|19.43|23.49|26.41|28.28| 28.6|27.49|26.98|26.26|25.08|21.73|18.95|\n",
            "| 19.0|20.39| 24.1|26.54|28.68|28.44|27.29|27.05|25.95|24.37|21.33|18.78|\n",
            "|18.32|19.79|22.46|26.03|27.93|28.41|28.04|26.63|26.34|24.57|20.96|18.29|\n",
            "|17.77|19.39|22.95|26.73|27.83|27.85|26.84|26.73|25.84|24.36|21.07|18.84|\n",
            "| 17.4|17.79|21.78|24.84|28.32|28.69|27.67|27.47|26.29|26.16|22.07|18.71|\n",
            "| 17.5|19.14|22.21|26.53|29.06|28.02|27.46|26.82|26.23|24.75|21.93|19.55|\n",
            "|19.27|19.42|22.03|26.98|27.52|27.66|27.28|26.38|26.26|24.72|22.11|18.46|\n",
            "|18.35|19.73|22.93|27.06|28.07|28.49|27.16|26.41|25.74|24.25|21.06|18.15|\n",
            "|17.79|19.05| 23.4|25.76|27.97|27.67|26.56|26.43|25.47|24.37|22.01|18.86|\n",
            "|18.14|19.72| 22.9|25.96|28.36|27.72|26.93|26.61|25.98|24.04|20.72|18.05|\n",
            "|18.52|19.18|22.05| 26.0|28.55|28.02|27.44|27.04|26.22|24.57| 21.1|18.76|\n",
            "| 18.6|20.84|22.93|26.21| 28.3|28.53|27.49|26.68|25.81|24.44| 21.0|18.44|\n",
            "| 18.2|19.98|22.15|26.61|27.95|27.91| 27.0| 26.8|26.02|24.35|20.92| 18.7|\n",
            "|18.96|19.66|22.63|25.73|28.24|28.46|27.29|26.49|26.38|23.97|21.87|18.73|\n",
            "|17.93| 19.0|22.69|26.23|29.17|28.58|27.77|27.32|26.82|25.46|22.18|18.31|\n",
            "|18.52|19.68|24.24|26.84|28.16|27.81|27.08|26.77| 26.0| 24.6|21.03|18.17|\n",
            "|18.16|19.94|22.46|25.29|26.97|27.41|27.15|26.64|25.79|23.85| 20.8|18.39|\n",
            "|17.25|19.58|22.64|25.26|28.27|27.58|27.74|26.97| 26.0|24.54|21.71|18.37|\n",
            "|18.78|19.15|23.15|26.19| 28.2| 28.3|27.28|26.84|25.84|24.36|21.48|18.58|\n",
            "|18.27|19.16|23.02|25.73|27.06|27.76|27.48|26.61|26.34|24.85|21.84|18.78|\n",
            "+-----+-----+-----+-----+-----+-----+-----+-----+-----+-----+-----+-----+\n",
            "only showing top 20 rows\n",
            "\n"
          ]
        }
      ]
    },
    {
      "cell_type": "markdown",
      "source": [
        "**6. Which year is the coldest year? (Based on avg temp)**"
      ],
      "metadata": {
        "id": "TG8kOnc5VtwO"
      }
    },
    {
      "cell_type": "code",
      "source": [
        "df2.select('YEAR#1900').withColumnRenamed('YEAR#1900', 'YEAR').where(col('Average')==df2.select('Average').agg({'Average':'min'}).collect()[0][0]).show()"
      ],
      "metadata": {
        "colab": {
          "base_uri": "https://localhost:8080/",
          "height": 391
        },
        "id": "Jq2h1UF-VsF6",
        "outputId": "8e4d8a8f-6068-4ea4-dc47-d459d9fea742"
      },
      "execution_count": 67,
      "outputs": [
        {
          "output_type": "error",
          "ename": "AnalysisException",
          "evalue": "[UNRESOLVED_COLUMN.WITH_SUGGESTION] A column or function parameter with name `YEAR#1900` cannot be resolved. Did you mean one of the following? [`MAR`, `APR`, `AUG`, `DEC`, `FEB`].;\n'Project ['YEAR#1900]\n+- Project [JAN#1901, FEB#1902, MAR#1903, APR#1904, MAY#1905, JUN#1906, JUL#1907, AUG#1908, SEP#1909, OCT#1910, NOV#1911, DEC#1912]\n   +- Project [YEAR#1900, JAN#1901, FEB#1902, MAR#1903, APR#1904, MAY#1905, JUN#1906, JUL#1907, AUG#1908, SEP#1909, OCT#1910, NOV#1911, DEC#1912]\n      +- Relation [_c0#1899,YEAR#1900,JAN#1901,FEB#1902,MAR#1903,APR#1904,MAY#1905,JUN#1906,JUL#1907,AUG#1908,SEP#1909,OCT#1910,NOV#1911,DEC#1912] csv\n",
          "traceback": [
            "\u001b[0;31m---------------------------------------------------------------------------\u001b[0m",
            "\u001b[0;31mAnalysisException\u001b[0m                         Traceback (most recent call last)",
            "\u001b[0;32m<ipython-input-67-fd91a1b5bbbb>\u001b[0m in \u001b[0;36m<cell line: 1>\u001b[0;34m()\u001b[0m\n\u001b[0;32m----> 1\u001b[0;31m \u001b[0mdf2\u001b[0m\u001b[0;34m.\u001b[0m\u001b[0mselect\u001b[0m\u001b[0;34m(\u001b[0m\u001b[0;34m'YEAR#1900'\u001b[0m\u001b[0;34m)\u001b[0m\u001b[0;34m.\u001b[0m\u001b[0mwithColumnRenamed\u001b[0m\u001b[0;34m(\u001b[0m\u001b[0;34m'YEAR#1900'\u001b[0m\u001b[0;34m,\u001b[0m \u001b[0;34m'YEAR'\u001b[0m\u001b[0;34m)\u001b[0m\u001b[0;34m.\u001b[0m\u001b[0mwhere\u001b[0m\u001b[0;34m(\u001b[0m\u001b[0mcol\u001b[0m\u001b[0;34m(\u001b[0m\u001b[0;34m'Average'\u001b[0m\u001b[0;34m)\u001b[0m\u001b[0;34m==\u001b[0m\u001b[0mdf2\u001b[0m\u001b[0;34m.\u001b[0m\u001b[0mselect\u001b[0m\u001b[0;34m(\u001b[0m\u001b[0;34m'Average'\u001b[0m\u001b[0;34m)\u001b[0m\u001b[0;34m.\u001b[0m\u001b[0magg\u001b[0m\u001b[0;34m(\u001b[0m\u001b[0;34m{\u001b[0m\u001b[0;34m'Average'\u001b[0m\u001b[0;34m:\u001b[0m\u001b[0;34m'min'\u001b[0m\u001b[0;34m}\u001b[0m\u001b[0;34m)\u001b[0m\u001b[0;34m.\u001b[0m\u001b[0mcollect\u001b[0m\u001b[0;34m(\u001b[0m\u001b[0;34m)\u001b[0m\u001b[0;34m[\u001b[0m\u001b[0;36m0\u001b[0m\u001b[0;34m]\u001b[0m\u001b[0;34m[\u001b[0m\u001b[0;36m0\u001b[0m\u001b[0;34m]\u001b[0m\u001b[0;34m)\u001b[0m\u001b[0;34m.\u001b[0m\u001b[0mshow\u001b[0m\u001b[0;34m(\u001b[0m\u001b[0;34m)\u001b[0m\u001b[0;34m\u001b[0m\u001b[0;34m\u001b[0m\u001b[0m\n\u001b[0m",
            "\u001b[0;32m/usr/local/lib/python3.10/dist-packages/pyspark/sql/dataframe.py\u001b[0m in \u001b[0;36mselect\u001b[0;34m(self, *cols)\u001b[0m\n\u001b[1;32m   3227\u001b[0m         \u001b[0;34m+\u001b[0m\u001b[0;34m-\u001b[0m\u001b[0;34m-\u001b[0m\u001b[0;34m-\u001b[0m\u001b[0;34m-\u001b[0m\u001b[0;34m-\u001b[0m\u001b[0;34m+\u001b[0m\u001b[0;34m-\u001b[0m\u001b[0;34m-\u001b[0m\u001b[0;34m-\u001b[0m\u001b[0;34m+\u001b[0m\u001b[0;34m\u001b[0m\u001b[0;34m\u001b[0m\u001b[0m\n\u001b[1;32m   3228\u001b[0m         \"\"\"\n\u001b[0;32m-> 3229\u001b[0;31m         \u001b[0mjdf\u001b[0m \u001b[0;34m=\u001b[0m \u001b[0mself\u001b[0m\u001b[0;34m.\u001b[0m\u001b[0m_jdf\u001b[0m\u001b[0;34m.\u001b[0m\u001b[0mselect\u001b[0m\u001b[0;34m(\u001b[0m\u001b[0mself\u001b[0m\u001b[0;34m.\u001b[0m\u001b[0m_jcols\u001b[0m\u001b[0;34m(\u001b[0m\u001b[0;34m*\u001b[0m\u001b[0mcols\u001b[0m\u001b[0;34m)\u001b[0m\u001b[0;34m)\u001b[0m\u001b[0;34m\u001b[0m\u001b[0;34m\u001b[0m\u001b[0m\n\u001b[0m\u001b[1;32m   3230\u001b[0m         \u001b[0;32mreturn\u001b[0m \u001b[0mDataFrame\u001b[0m\u001b[0;34m(\u001b[0m\u001b[0mjdf\u001b[0m\u001b[0;34m,\u001b[0m \u001b[0mself\u001b[0m\u001b[0;34m.\u001b[0m\u001b[0msparkSession\u001b[0m\u001b[0;34m)\u001b[0m\u001b[0;34m\u001b[0m\u001b[0;34m\u001b[0m\u001b[0m\n\u001b[1;32m   3231\u001b[0m \u001b[0;34m\u001b[0m\u001b[0m\n",
            "\u001b[0;32m/usr/local/lib/python3.10/dist-packages/py4j/java_gateway.py\u001b[0m in \u001b[0;36m__call__\u001b[0;34m(self, *args)\u001b[0m\n\u001b[1;32m   1320\u001b[0m \u001b[0;34m\u001b[0m\u001b[0m\n\u001b[1;32m   1321\u001b[0m         \u001b[0manswer\u001b[0m \u001b[0;34m=\u001b[0m \u001b[0mself\u001b[0m\u001b[0;34m.\u001b[0m\u001b[0mgateway_client\u001b[0m\u001b[0;34m.\u001b[0m\u001b[0msend_command\u001b[0m\u001b[0;34m(\u001b[0m\u001b[0mcommand\u001b[0m\u001b[0;34m)\u001b[0m\u001b[0;34m\u001b[0m\u001b[0;34m\u001b[0m\u001b[0m\n\u001b[0;32m-> 1322\u001b[0;31m         return_value = get_return_value(\n\u001b[0m\u001b[1;32m   1323\u001b[0m             answer, self.gateway_client, self.target_id, self.name)\n\u001b[1;32m   1324\u001b[0m \u001b[0;34m\u001b[0m\u001b[0m\n",
            "\u001b[0;32m/usr/local/lib/python3.10/dist-packages/pyspark/errors/exceptions/captured.py\u001b[0m in \u001b[0;36mdeco\u001b[0;34m(*a, **kw)\u001b[0m\n\u001b[1;32m    183\u001b[0m                 \u001b[0;31m# Hide where the exception came from that shows a non-Pythonic\u001b[0m\u001b[0;34m\u001b[0m\u001b[0;34m\u001b[0m\u001b[0m\n\u001b[1;32m    184\u001b[0m                 \u001b[0;31m# JVM exception message.\u001b[0m\u001b[0;34m\u001b[0m\u001b[0;34m\u001b[0m\u001b[0m\n\u001b[0;32m--> 185\u001b[0;31m                 \u001b[0;32mraise\u001b[0m \u001b[0mconverted\u001b[0m \u001b[0;32mfrom\u001b[0m \u001b[0;32mNone\u001b[0m\u001b[0;34m\u001b[0m\u001b[0;34m\u001b[0m\u001b[0m\n\u001b[0m\u001b[1;32m    186\u001b[0m             \u001b[0;32melse\u001b[0m\u001b[0;34m:\u001b[0m\u001b[0;34m\u001b[0m\u001b[0;34m\u001b[0m\u001b[0m\n\u001b[1;32m    187\u001b[0m                 \u001b[0;32mraise\u001b[0m\u001b[0;34m\u001b[0m\u001b[0;34m\u001b[0m\u001b[0m\n",
            "\u001b[0;31mAnalysisException\u001b[0m: [UNRESOLVED_COLUMN.WITH_SUGGESTION] A column or function parameter with name `YEAR#1900` cannot be resolved. Did you mean one of the following? [`MAR`, `APR`, `AUG`, `DEC`, `FEB`].;\n'Project ['YEAR#1900]\n+- Project [JAN#1901, FEB#1902, MAR#1903, APR#1904, MAY#1905, JUN#1906, JUL#1907, AUG#1908, SEP#1909, OCT#1910, NOV#1911, DEC#1912]\n   +- Project [YEAR#1900, JAN#1901, FEB#1902, MAR#1903, APR#1904, MAY#1905, JUN#1906, JUL#1907, AUG#1908, SEP#1909, OCT#1910, NOV#1911, DEC#1912]\n      +- Relation [_c0#1899,YEAR#1900,JAN#1901,FEB#1902,MAR#1903,APR#1904,MAY#1905,JUN#1906,JUL#1907,AUG#1908,SEP#1909,OCT#1910,NOV#1911,DEC#1912] csv\n"
          ]
        }
      ]
    },
    {
      "cell_type": "markdown",
      "source": [
        "**7. Find out which years recorded minimum and maximum temperatures. (Not based on avg temp)**"
      ],
      "metadata": {
        "id": "LE_GOAtMV5U3"
      }
    },
    {
      "cell_type": "code",
      "source": [
        "df3.select('YEAR').where(col('Min')==df3.select('Min').agg({'Min':'min'}).collect()[0][0]).show()\n",
        "df3.select('YEAR').where(col('Max')==df3.select('Max').agg({'Max':'max'}).collect()[0][0]).show()"
      ],
      "metadata": {
        "colab": {
          "base_uri": "https://localhost:8080/"
        },
        "id": "AKtGZtJWVyEc",
        "outputId": "91723832-9207-4fe7-a2c2-5b2d9e01ad44"
      },
      "execution_count": 63,
      "outputs": [
        {
          "output_type": "stream",
          "name": "stdout",
          "text": [
            "+----+\n",
            "|YEAR|\n",
            "+----+\n",
            "|1918|\n",
            "+----+\n",
            "\n",
            "+----+\n",
            "|YEAR|\n",
            "+----+\n",
            "|1921|\n",
            "+----+\n",
            "\n"
          ]
        }
      ]
    },
    {
      "cell_type": "markdown",
      "source": [
        "**8. How much raise is observed in min and max temperature for each month?**"
      ],
      "metadata": {
        "id": "WWsgHhqYXQ9r"
      }
    },
    {
      "cell_type": "code",
      "source": [
        "df8 = df.select([cols for cols in df.columns if cols != 'YEAR'])\n",
        "for i in df8.columns:\n",
        "  print(f\"{i}:{df8.select(i).agg({i:'max'}).collect()[0][0]-df.select(i).agg({i:'min'}).collect()[0][0]}\")"
      ],
      "metadata": {
        "colab": {
          "base_uri": "https://localhost:8080/"
        },
        "id": "Sd6GA5MUXPQw",
        "outputId": "86f38b6c-28bf-41a4-cf47-677fb1cf0489"
      },
      "execution_count": 64,
      "outputs": [
        {
          "output_type": "stream",
          "name": "stdout",
          "text": [
            "JAN:3.6700000000000017\n",
            "FEB:5.789999999999999\n",
            "MAR:4.829999999999998\n",
            "APR:4.719999999999999\n",
            "MAY:3.8100000000000023\n",
            "JUN:2.5500000000000007\n",
            "JUL:1.9899999999999984\n",
            "AUG:1.9600000000000009\n",
            "SEP:2.6400000000000006\n",
            "OCT:3.719999999999999\n",
            "NOV:3.330000000000002\n",
            "DEC:3.91\n"
          ]
        }
      ]
    },
    {
      "cell_type": "code",
      "source": [],
      "metadata": {
        "id": "ZeiaQhkeXbMB"
      },
      "execution_count": null,
      "outputs": []
    }
  ]
}