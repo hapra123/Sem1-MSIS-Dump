{
  "nbformat": 4,
  "nbformat_minor": 0,
  "metadata": {
    "colab": {
      "provenance": []
    },
    "kernelspec": {
      "name": "python3",
      "display_name": "Python 3"
    },
    "language_info": {
      "name": "python"
    }
  },
  "cells": [
    {
      "cell_type": "code",
      "execution_count": null,
      "metadata": {
        "colab": {
          "base_uri": "https://localhost:8080/"
        },
        "id": "xAP9w36ltRQp",
        "outputId": "97188629-cad6-41ba-918e-5acfa4602160"
      },
      "outputs": [
        {
          "output_type": "stream",
          "name": "stdout",
          "text": [
            "Collecting pyspark\n",
            "  Downloading pyspark-3.5.3.tar.gz (317.3 MB)\n",
            "\u001b[2K     \u001b[90m━━━━━━━━━━━━━━━━━━━━━━━━━━━━━━━━━━━━━━━━\u001b[0m \u001b[32m317.3/317.3 MB\u001b[0m \u001b[31m5.0 MB/s\u001b[0m eta \u001b[36m0:00:00\u001b[0m\n",
            "\u001b[?25h  Preparing metadata (setup.py) ... \u001b[?25l\u001b[?25hdone\n",
            "Requirement already satisfied: py4j==0.10.9.7 in /usr/local/lib/python3.10/dist-packages (from pyspark) (0.10.9.7)\n",
            "Building wheels for collected packages: pyspark\n",
            "  Building wheel for pyspark (setup.py) ... \u001b[?25l\u001b[?25hdone\n",
            "  Created wheel for pyspark: filename=pyspark-3.5.3-py2.py3-none-any.whl size=317840625 sha256=65d5aa5d113c553598ed522c0e23309c5056b79c5658a761285c197642cc6cec\n",
            "  Stored in directory: /root/.cache/pip/wheels/1b/3a/92/28b93e2fbfdbb07509ca4d6f50c5e407f48dce4ddbda69a4ab\n",
            "Successfully built pyspark\n",
            "Installing collected packages: pyspark\n",
            "Successfully installed pyspark-3.5.3\n"
          ]
        }
      ],
      "source": [
        "!pip install pyspark"
      ]
    },
    {
      "cell_type": "code",
      "source": [
        "from pyspark.sql import SparkSession\n",
        "from pyspark.sql.functions import *\n",
        "from pyspark.sql.types import *\n",
        "from pyspark import *"
      ],
      "metadata": {
        "id": "e6Lic5J40exT"
      },
      "execution_count": 26,
      "outputs": []
    },
    {
      "cell_type": "code",
      "source": [
        "from pyspark.sql import SparkSession\n",
        "from pyspark.sql.functions import *\n",
        "from pyspark.sql.types import *"
      ],
      "metadata": {
        "id": "58A4-VwjtxQZ"
      },
      "execution_count": 22,
      "outputs": []
    },
    {
      "cell_type": "code",
      "source": [
        "from pyspark import *"
      ],
      "metadata": {
        "id": "6_Zuyool0P-q"
      },
      "execution_count": 24,
      "outputs": []
    },
    {
      "cell_type": "code",
      "source": [
        "spark = SparkSession.builder.appName(\"fifa\").getOrCreate()\n",
        "\n",
        "df = spark.read.csv(\"/content/FIFA2022 Final Conerted final.csv\", header=True, inferSchema=True)\n",
        "#df.printSchema()\n",
        "df.show()\n"
      ],
      "metadata": {
        "colab": {
          "base_uri": "https://localhost:8080/"
        },
        "id": "VSN7cJ9luj_S",
        "outputId": "f467ebc3-c0f9-471d-9bd1-71afe8c63029"
      },
      "execution_count": null,
      "outputs": [
        {
          "output_type": "stream",
          "name": "stdout",
          "text": [
            "+------------+------------+-----+---------------+----------+------+-------------+-----+------------+---------+--------+-------+---------+-------------+------+-----+----------+--------------+------------------+----------+\n",
            "|        Team|    Opponent|Shots|Shots on Target|Possession|Passes|Pass accuracy|Fouls|Yellow Cards|Red Cards|OffSides|Corners|Goals For|Goals against|Result|Stage|Extra Time|For Goal Extra|Against Goal Extra|Tie braker|\n",
            "+------------+------------+-----+---------------+----------+------+-------------+-----+------------+---------+--------+-------+---------+-------------+------+-----+----------+--------------+------------------+----------+\n",
            "|    Portugal|     Uruguay|   15|              3|        60|   603|           83|   10|           3|        0|       3|      6|        2|            0|   Won|Group|        NO|            NA|                NA|        NA|\n",
            "|     Uruguay|    Portugal|   11|              3|        40|   403|           73|   16|           2|        0|       0|      2|        0|            2|  Lost|Group|        NO|            NA|                NA|        NA|\n",
            "|       Ghana| South Korea|    7|              3|        36|   320|           79|    9|           2|        0|       1|      5|        3|            2|   Won|Group|        NO|            NA|                NA|        NA|\n",
            "| South Korea|       Ghana|   22|              7|        64|   528|           86|   13|           2|        0|       1|     12|        2|            3|  Lost|Group|        NO|            NA|                NA|        NA|\n",
            "|    Camaroon|      Serbia|   13|              8|        40|   340|           71|    8|           2|        0|       0|      4|        3|            3|  Draw|Group|        NO|            NA|                NA|        NA|\n",
            "|      Serbia|    Camaroon|   15|              5|        60|   503|           81|   13|           2|        0|       4|      3|        3|            3|  Draw|Group|        NO|            NA|                NA|        NA|\n",
            "|      Brazil| Switzerland|   13|              5|        54|   550|           87|   10|           1|        0|       3|      8|        1|            0|   Won|Group|        NO|            NA|                NA|        NA|\n",
            "| Switzerland|      Brazil|    6|              0|        46|   482|           83|   17|           1|        0|       1|      3|        0|            1|  Lost|Group|        NO|            NA|                NA|        NA|\n",
            "|       Qatar|      Ecador|    5|              0|        47|   434|           80|   15|           5|        0|       3|      1|        0|            2|  Lost|Group|        NO|            NA|                NA|        NA|\n",
            "|      Ecador|       Qatar|    6|              3|        53|   486|           84|   15|           2|        0|       4|      3|        2|            0|   Won|Group|        NO|            NA|                NA|        NA|\n",
            "|     England|        Iran|   13|              7|        79|   797|           89|    9|           0|        0|       2|      8|        6|            2|   Won|Group|        NO|            NA|                NA|        NA|\n",
            "|        Iran|     England|    8|              3|        21|   215|           66|   14|           2|        0|       2|      0|        2|            6|  Lost|Group|        NO|            NA|                NA|        NA|\n",
            "|     Senegal| Netherlands|   15|              4|        46|   385|           79|   13|           2|        0|       2|      6|        0|            2|  Lost|Group|        NO|            NA|                NA|        NA|\n",
            "| Netherlands|     Senegal|   10|              3|        54|   436|           81|   13|           1|        0|       1|      7|        2|            0|   Won|Group|        NO|            NA|                NA|        NA|\n",
            "|         USA|       Wales|    6|              1|        59|   567|           87|   15|           4|        0|       1|      5|        1|            1|  Draw|Group|        NO|            NA|                NA|        NA|\n",
            "|       Wales|         USA|    7|              3|        41|   403|           76|   10|           2|        0|       1|      3|        1|            1|  Draw|Group|        NO|            NA|                NA|        NA|\n",
            "|   Argentina|Saudi Arabia|   15|              6|        70|   596|           85|    7|           0|        0|      10|      9|        1|            2|  Lost|Group|        NO|            NA|                NA|        NA|\n",
            "|Saudi Arabia|   Argentina|    3|              2|        30|   266|           68|   21|           6|        0|       1|      2|        2|            1|   Won|Group|        NO|            NA|                NA|        NA|\n",
            "|     Denmark|     Tunisia|   11|              5|        62|   595|           84|    9|           2|        0|       1|     11|        0|            0|  Draw|Group|        NO|            NA|                NA|        NA|\n",
            "|     Tunisia|     Denmark|   13|              1|        38|   374|           74|   10|           1|        0|       1|      9|        0|            0|  Draw|Group|        NO|            NA|                NA|        NA|\n",
            "+------------+------------+-----+---------------+----------+------+-------------+-----+------------+---------+--------+-------+---------+-------------+------+-----+----------+--------------+------------------+----------+\n",
            "only showing top 20 rows\n",
            "\n"
          ]
        }
      ]
    },
    {
      "cell_type": "markdown",
      "source": [
        "*Add column 'Group' and populate the values based on countries :*"
      ],
      "metadata": {
        "id": "UJaahh8H4lhP"
      }
    },
    {
      "cell_type": "code",
      "source": [
        "def group(input):\n",
        "  if input in ['Qatar', 'Ecuador', 'Senegal', 'Netherlands']:\n",
        "    return 'Group A'\n",
        "  if input in ['England', 'Iran', 'United States', 'Wales']:\n",
        "    return 'Group B'\n",
        "  if input in [ 'Argentina', 'Saudi Arabia', 'Mexico', 'Poland']:\n",
        "    return 'Group C'\n",
        "  if input in ['France', 'Australia', 'Denmark', 'Tunisia']:\n",
        "    return 'Group D'\n",
        "  if input in ['Spain', 'Costa Rica','Germany','Japan']:\n",
        "    return 'Group E'\n",
        "  if input in ['Belgium', 'Canada', 'Morocco', 'Croatia']:\n",
        "    return 'Group F'\n",
        "  if input in ['Brazil', 'Serbia', 'Switzerland', 'Cameroon']:\n",
        "    return 'Group G'\n",
        "  if input in ['Portugal', 'Ghana', 'Uruguay', 'South Korea']:\n",
        "    return 'Group H'\n",
        "  return 'Other'\n",
        "sparkfn=udf(group,StringType())\n",
        "df2=df.withColumn(\"Group\",sparkfn(col(\"Team\")))\n",
        "df2.show()"
      ],
      "metadata": {
        "id": "RiQbZOh-wzHx",
        "colab": {
          "base_uri": "https://localhost:8080/"
        },
        "outputId": "a6aaaec3-25a4-420c-a7fb-d03f2eb70868"
      },
      "execution_count": 107,
      "outputs": [
        {
          "output_type": "stream",
          "name": "stdout",
          "text": [
            "+------------+------------+-----+---------------+----------+------+-------------+-----+------------+---------+--------+-------+---------+-------------+------+-----+----------+--------------+------------------+----------+-------+\n",
            "|        Team|    Opponent|Shots|Shots on Target|Possession|Passes|Pass accuracy|Fouls|Yellow Cards|Red Cards|OffSides|Corners|Goals For|Goals against|Result|Stage|Extra Time|For Goal Extra|Against Goal Extra|Tie braker|  Group|\n",
            "+------------+------------+-----+---------------+----------+------+-------------+-----+------------+---------+--------+-------+---------+-------------+------+-----+----------+--------------+------------------+----------+-------+\n",
            "|    Portugal|     Uruguay|   15|              3|        60|   603|           83|   10|           3|        0|       3|      6|        2|            0|   Won|Group|        NO|            NA|                NA|        NA|Group H|\n",
            "|     Uruguay|    Portugal|   11|              3|        40|   403|           73|   16|           2|        0|       0|      2|        0|            2|  Lost|Group|        NO|            NA|                NA|        NA|Group H|\n",
            "|       Ghana| South Korea|    7|              3|        36|   320|           79|    9|           2|        0|       1|      5|        3|            2|   Won|Group|        NO|            NA|                NA|        NA|Group H|\n",
            "| South Korea|       Ghana|   22|              7|        64|   528|           86|   13|           2|        0|       1|     12|        2|            3|  Lost|Group|        NO|            NA|                NA|        NA|Group H|\n",
            "|    Camaroon|      Serbia|   13|              8|        40|   340|           71|    8|           2|        0|       0|      4|        3|            3|  Draw|Group|        NO|            NA|                NA|        NA|  Other|\n",
            "|      Serbia|    Camaroon|   15|              5|        60|   503|           81|   13|           2|        0|       4|      3|        3|            3|  Draw|Group|        NO|            NA|                NA|        NA|Group G|\n",
            "|      Brazil| Switzerland|   13|              5|        54|   550|           87|   10|           1|        0|       3|      8|        1|            0|   Won|Group|        NO|            NA|                NA|        NA|Group G|\n",
            "| Switzerland|      Brazil|    6|              0|        46|   482|           83|   17|           1|        0|       1|      3|        0|            1|  Lost|Group|        NO|            NA|                NA|        NA|Group G|\n",
            "|       Qatar|      Ecador|    5|              0|        47|   434|           80|   15|           5|        0|       3|      1|        0|            2|  Lost|Group|        NO|            NA|                NA|        NA|Group A|\n",
            "|      Ecador|       Qatar|    6|              3|        53|   486|           84|   15|           2|        0|       4|      3|        2|            0|   Won|Group|        NO|            NA|                NA|        NA|  Other|\n",
            "|     England|        Iran|   13|              7|        79|   797|           89|    9|           0|        0|       2|      8|        6|            2|   Won|Group|        NO|            NA|                NA|        NA|Group B|\n",
            "|        Iran|     England|    8|              3|        21|   215|           66|   14|           2|        0|       2|      0|        2|            6|  Lost|Group|        NO|            NA|                NA|        NA|Group B|\n",
            "|     Senegal| Netherlands|   15|              4|        46|   385|           79|   13|           2|        0|       2|      6|        0|            2|  Lost|Group|        NO|            NA|                NA|        NA|Group A|\n",
            "| Netherlands|     Senegal|   10|              3|        54|   436|           81|   13|           1|        0|       1|      7|        2|            0|   Won|Group|        NO|            NA|                NA|        NA|Group A|\n",
            "|         USA|       Wales|    6|              1|        59|   567|           87|   15|           4|        0|       1|      5|        1|            1|  Draw|Group|        NO|            NA|                NA|        NA|  Other|\n",
            "|       Wales|         USA|    7|              3|        41|   403|           76|   10|           2|        0|       1|      3|        1|            1|  Draw|Group|        NO|            NA|                NA|        NA|Group B|\n",
            "|   Argentina|Saudi Arabia|   15|              6|        70|   596|           85|    7|           0|        0|      10|      9|        1|            2|  Lost|Group|        NO|            NA|                NA|        NA|Group C|\n",
            "|Saudi Arabia|   Argentina|    3|              2|        30|   266|           68|   21|           6|        0|       1|      2|        2|            1|   Won|Group|        NO|            NA|                NA|        NA|Group C|\n",
            "|     Denmark|     Tunisia|   11|              5|        62|   595|           84|    9|           2|        0|       1|     11|        0|            0|  Draw|Group|        NO|            NA|                NA|        NA|Group D|\n",
            "|     Tunisia|     Denmark|   13|              1|        38|   374|           74|   10|           1|        0|       1|      9|        0|            0|  Draw|Group|        NO|            NA|                NA|        NA|Group D|\n",
            "+------------+------------+-----+---------------+----------+------+-------------+-----+------------+---------+--------+-------+---------+-------------+------+-----+----------+--------------+------------------+----------+-------+\n",
            "only showing top 20 rows\n",
            "\n"
          ]
        }
      ]
    },
    {
      "cell_type": "code",
      "source": [
        "def nullrem(input):\n",
        "  if input in ['NA']:\n",
        "    return 0\n",
        "  else:\n",
        "    return input\n",
        "sparkfn=udf(nullrem,IntegerType())\n",
        "df3=df2.withColumn(\"For Extra\",sparkfn(col(\"For Goal Extra\")))\n",
        "df3.show()"
      ],
      "metadata": {
        "colab": {
          "base_uri": "https://localhost:8080/"
        },
        "id": "cLyrpqyk0yLR",
        "outputId": "42d494df-3d79-4bb3-f059-d55cd00300f2"
      },
      "execution_count": 108,
      "outputs": [
        {
          "output_type": "stream",
          "name": "stdout",
          "text": [
            "+------------+------------+-----+---------------+----------+------+-------------+-----+------------+---------+--------+-------+---------+-------------+------+-----+----------+--------------+------------------+----------+-------+---------+\n",
            "|        Team|    Opponent|Shots|Shots on Target|Possession|Passes|Pass accuracy|Fouls|Yellow Cards|Red Cards|OffSides|Corners|Goals For|Goals against|Result|Stage|Extra Time|For Goal Extra|Against Goal Extra|Tie braker|  Group|For Extra|\n",
            "+------------+------------+-----+---------------+----------+------+-------------+-----+------------+---------+--------+-------+---------+-------------+------+-----+----------+--------------+------------------+----------+-------+---------+\n",
            "|    Portugal|     Uruguay|   15|              3|        60|   603|           83|   10|           3|        0|       3|      6|        2|            0|   Won|Group|        NO|            NA|                NA|        NA|Group H|        0|\n",
            "|     Uruguay|    Portugal|   11|              3|        40|   403|           73|   16|           2|        0|       0|      2|        0|            2|  Lost|Group|        NO|            NA|                NA|        NA|Group H|        0|\n",
            "|       Ghana| South Korea|    7|              3|        36|   320|           79|    9|           2|        0|       1|      5|        3|            2|   Won|Group|        NO|            NA|                NA|        NA|Group H|        0|\n",
            "| South Korea|       Ghana|   22|              7|        64|   528|           86|   13|           2|        0|       1|     12|        2|            3|  Lost|Group|        NO|            NA|                NA|        NA|Group H|        0|\n",
            "|    Camaroon|      Serbia|   13|              8|        40|   340|           71|    8|           2|        0|       0|      4|        3|            3|  Draw|Group|        NO|            NA|                NA|        NA|  Other|        0|\n",
            "|      Serbia|    Camaroon|   15|              5|        60|   503|           81|   13|           2|        0|       4|      3|        3|            3|  Draw|Group|        NO|            NA|                NA|        NA|Group G|        0|\n",
            "|      Brazil| Switzerland|   13|              5|        54|   550|           87|   10|           1|        0|       3|      8|        1|            0|   Won|Group|        NO|            NA|                NA|        NA|Group G|        0|\n",
            "| Switzerland|      Brazil|    6|              0|        46|   482|           83|   17|           1|        0|       1|      3|        0|            1|  Lost|Group|        NO|            NA|                NA|        NA|Group G|        0|\n",
            "|       Qatar|      Ecador|    5|              0|        47|   434|           80|   15|           5|        0|       3|      1|        0|            2|  Lost|Group|        NO|            NA|                NA|        NA|Group A|        0|\n",
            "|      Ecador|       Qatar|    6|              3|        53|   486|           84|   15|           2|        0|       4|      3|        2|            0|   Won|Group|        NO|            NA|                NA|        NA|  Other|        0|\n",
            "|     England|        Iran|   13|              7|        79|   797|           89|    9|           0|        0|       2|      8|        6|            2|   Won|Group|        NO|            NA|                NA|        NA|Group B|        0|\n",
            "|        Iran|     England|    8|              3|        21|   215|           66|   14|           2|        0|       2|      0|        2|            6|  Lost|Group|        NO|            NA|                NA|        NA|Group B|        0|\n",
            "|     Senegal| Netherlands|   15|              4|        46|   385|           79|   13|           2|        0|       2|      6|        0|            2|  Lost|Group|        NO|            NA|                NA|        NA|Group A|        0|\n",
            "| Netherlands|     Senegal|   10|              3|        54|   436|           81|   13|           1|        0|       1|      7|        2|            0|   Won|Group|        NO|            NA|                NA|        NA|Group A|        0|\n",
            "|         USA|       Wales|    6|              1|        59|   567|           87|   15|           4|        0|       1|      5|        1|            1|  Draw|Group|        NO|            NA|                NA|        NA|  Other|        0|\n",
            "|       Wales|         USA|    7|              3|        41|   403|           76|   10|           2|        0|       1|      3|        1|            1|  Draw|Group|        NO|            NA|                NA|        NA|Group B|        0|\n",
            "|   Argentina|Saudi Arabia|   15|              6|        70|   596|           85|    7|           0|        0|      10|      9|        1|            2|  Lost|Group|        NO|            NA|                NA|        NA|Group C|        0|\n",
            "|Saudi Arabia|   Argentina|    3|              2|        30|   266|           68|   21|           6|        0|       1|      2|        2|            1|   Won|Group|        NO|            NA|                NA|        NA|Group C|        0|\n",
            "|     Denmark|     Tunisia|   11|              5|        62|   595|           84|    9|           2|        0|       1|     11|        0|            0|  Draw|Group|        NO|            NA|                NA|        NA|Group D|        0|\n",
            "|     Tunisia|     Denmark|   13|              1|        38|   374|           74|   10|           1|        0|       1|      9|        0|            0|  Draw|Group|        NO|            NA|                NA|        NA|Group D|        0|\n",
            "+------------+------------+-----+---------------+----------+------+-------------+-----+------------+---------+--------+-------+---------+-------------+------+-----+----------+--------------+------------------+----------+-------+---------+\n",
            "only showing top 20 rows\n",
            "\n"
          ]
        }
      ]
    },
    {
      "cell_type": "code",
      "source": [
        "def nullrem(input):\n",
        "  if input in ['NA']:\n",
        "    return 0\n",
        "  else:\n",
        "    return input\n",
        "sparkfn=udf(nullrem,IntegerType())\n",
        "df3=df3.withColumn(\"Against Extra\",sparkfn(col(\"Against Goal Extra\")))\n",
        "df3.show()"
      ],
      "metadata": {
        "colab": {
          "base_uri": "https://localhost:8080/"
        },
        "id": "aEJwV4WA3efC",
        "outputId": "9ae17f5c-3814-43cf-d52b-a867c4963c44"
      },
      "execution_count": 109,
      "outputs": [
        {
          "output_type": "stream",
          "name": "stdout",
          "text": [
            "+------------+------------+-----+---------------+----------+------+-------------+-----+------------+---------+--------+-------+---------+-------------+------+-----+----------+--------------+------------------+----------+-------+---------+-------------+\n",
            "|        Team|    Opponent|Shots|Shots on Target|Possession|Passes|Pass accuracy|Fouls|Yellow Cards|Red Cards|OffSides|Corners|Goals For|Goals against|Result|Stage|Extra Time|For Goal Extra|Against Goal Extra|Tie braker|  Group|For Extra|Against Extra|\n",
            "+------------+------------+-----+---------------+----------+------+-------------+-----+------------+---------+--------+-------+---------+-------------+------+-----+----------+--------------+------------------+----------+-------+---------+-------------+\n",
            "|    Portugal|     Uruguay|   15|              3|        60|   603|           83|   10|           3|        0|       3|      6|        2|            0|   Won|Group|        NO|            NA|                NA|        NA|Group H|        0|            0|\n",
            "|     Uruguay|    Portugal|   11|              3|        40|   403|           73|   16|           2|        0|       0|      2|        0|            2|  Lost|Group|        NO|            NA|                NA|        NA|Group H|        0|            0|\n",
            "|       Ghana| South Korea|    7|              3|        36|   320|           79|    9|           2|        0|       1|      5|        3|            2|   Won|Group|        NO|            NA|                NA|        NA|Group H|        0|            0|\n",
            "| South Korea|       Ghana|   22|              7|        64|   528|           86|   13|           2|        0|       1|     12|        2|            3|  Lost|Group|        NO|            NA|                NA|        NA|Group H|        0|            0|\n",
            "|    Camaroon|      Serbia|   13|              8|        40|   340|           71|    8|           2|        0|       0|      4|        3|            3|  Draw|Group|        NO|            NA|                NA|        NA|  Other|        0|            0|\n",
            "|      Serbia|    Camaroon|   15|              5|        60|   503|           81|   13|           2|        0|       4|      3|        3|            3|  Draw|Group|        NO|            NA|                NA|        NA|Group G|        0|            0|\n",
            "|      Brazil| Switzerland|   13|              5|        54|   550|           87|   10|           1|        0|       3|      8|        1|            0|   Won|Group|        NO|            NA|                NA|        NA|Group G|        0|            0|\n",
            "| Switzerland|      Brazil|    6|              0|        46|   482|           83|   17|           1|        0|       1|      3|        0|            1|  Lost|Group|        NO|            NA|                NA|        NA|Group G|        0|            0|\n",
            "|       Qatar|      Ecador|    5|              0|        47|   434|           80|   15|           5|        0|       3|      1|        0|            2|  Lost|Group|        NO|            NA|                NA|        NA|Group A|        0|            0|\n",
            "|      Ecador|       Qatar|    6|              3|        53|   486|           84|   15|           2|        0|       4|      3|        2|            0|   Won|Group|        NO|            NA|                NA|        NA|  Other|        0|            0|\n",
            "|     England|        Iran|   13|              7|        79|   797|           89|    9|           0|        0|       2|      8|        6|            2|   Won|Group|        NO|            NA|                NA|        NA|Group B|        0|            0|\n",
            "|        Iran|     England|    8|              3|        21|   215|           66|   14|           2|        0|       2|      0|        2|            6|  Lost|Group|        NO|            NA|                NA|        NA|Group B|        0|            0|\n",
            "|     Senegal| Netherlands|   15|              4|        46|   385|           79|   13|           2|        0|       2|      6|        0|            2|  Lost|Group|        NO|            NA|                NA|        NA|Group A|        0|            0|\n",
            "| Netherlands|     Senegal|   10|              3|        54|   436|           81|   13|           1|        0|       1|      7|        2|            0|   Won|Group|        NO|            NA|                NA|        NA|Group A|        0|            0|\n",
            "|         USA|       Wales|    6|              1|        59|   567|           87|   15|           4|        0|       1|      5|        1|            1|  Draw|Group|        NO|            NA|                NA|        NA|  Other|        0|            0|\n",
            "|       Wales|         USA|    7|              3|        41|   403|           76|   10|           2|        0|       1|      3|        1|            1|  Draw|Group|        NO|            NA|                NA|        NA|Group B|        0|            0|\n",
            "|   Argentina|Saudi Arabia|   15|              6|        70|   596|           85|    7|           0|        0|      10|      9|        1|            2|  Lost|Group|        NO|            NA|                NA|        NA|Group C|        0|            0|\n",
            "|Saudi Arabia|   Argentina|    3|              2|        30|   266|           68|   21|           6|        0|       1|      2|        2|            1|   Won|Group|        NO|            NA|                NA|        NA|Group C|        0|            0|\n",
            "|     Denmark|     Tunisia|   11|              5|        62|   595|           84|    9|           2|        0|       1|     11|        0|            0|  Draw|Group|        NO|            NA|                NA|        NA|Group D|        0|            0|\n",
            "|     Tunisia|     Denmark|   13|              1|        38|   374|           74|   10|           1|        0|       1|      9|        0|            0|  Draw|Group|        NO|            NA|                NA|        NA|Group D|        0|            0|\n",
            "+------------+------------+-----+---------------+----------+------+-------------+-----+------------+---------+--------+-------+---------+-------------+------+-----+----------+--------------+------------------+----------+-------+---------+-------------+\n",
            "only showing top 20 rows\n",
            "\n"
          ]
        }
      ]
    },
    {
      "cell_type": "markdown",
      "source": [
        "**Add column 'Total Goals' representing total goals scored in the match**"
      ],
      "metadata": {
        "id": "nuQEPNxe4b9h"
      }
    },
    {
      "cell_type": "code",
      "source": [
        "df3=df3.withColumn(\"Total Goals\",col(\"Goals For\")+col(\"Goals against\")+col(\"For Extra\")+col(\"Against Extra\"))\n",
        "df3.show()"
      ],
      "metadata": {
        "colab": {
          "base_uri": "https://localhost:8080/"
        },
        "id": "6HgpgoRF164A",
        "outputId": "cee9a227-b607-4897-e071-47c6907fffdb"
      },
      "execution_count": 110,
      "outputs": [
        {
          "output_type": "stream",
          "name": "stdout",
          "text": [
            "+------------+------------+-----+---------------+----------+------+-------------+-----+------------+---------+--------+-------+---------+-------------+------+-----+----------+--------------+------------------+----------+-------+---------+-------------+-----------+\n",
            "|        Team|    Opponent|Shots|Shots on Target|Possession|Passes|Pass accuracy|Fouls|Yellow Cards|Red Cards|OffSides|Corners|Goals For|Goals against|Result|Stage|Extra Time|For Goal Extra|Against Goal Extra|Tie braker|  Group|For Extra|Against Extra|Total Goals|\n",
            "+------------+------------+-----+---------------+----------+------+-------------+-----+------------+---------+--------+-------+---------+-------------+------+-----+----------+--------------+------------------+----------+-------+---------+-------------+-----------+\n",
            "|    Portugal|     Uruguay|   15|              3|        60|   603|           83|   10|           3|        0|       3|      6|        2|            0|   Won|Group|        NO|            NA|                NA|        NA|Group H|        0|            0|          2|\n",
            "|     Uruguay|    Portugal|   11|              3|        40|   403|           73|   16|           2|        0|       0|      2|        0|            2|  Lost|Group|        NO|            NA|                NA|        NA|Group H|        0|            0|          2|\n",
            "|       Ghana| South Korea|    7|              3|        36|   320|           79|    9|           2|        0|       1|      5|        3|            2|   Won|Group|        NO|            NA|                NA|        NA|Group H|        0|            0|          5|\n",
            "| South Korea|       Ghana|   22|              7|        64|   528|           86|   13|           2|        0|       1|     12|        2|            3|  Lost|Group|        NO|            NA|                NA|        NA|Group H|        0|            0|          5|\n",
            "|    Camaroon|      Serbia|   13|              8|        40|   340|           71|    8|           2|        0|       0|      4|        3|            3|  Draw|Group|        NO|            NA|                NA|        NA|  Other|        0|            0|          6|\n",
            "|      Serbia|    Camaroon|   15|              5|        60|   503|           81|   13|           2|        0|       4|      3|        3|            3|  Draw|Group|        NO|            NA|                NA|        NA|Group G|        0|            0|          6|\n",
            "|      Brazil| Switzerland|   13|              5|        54|   550|           87|   10|           1|        0|       3|      8|        1|            0|   Won|Group|        NO|            NA|                NA|        NA|Group G|        0|            0|          1|\n",
            "| Switzerland|      Brazil|    6|              0|        46|   482|           83|   17|           1|        0|       1|      3|        0|            1|  Lost|Group|        NO|            NA|                NA|        NA|Group G|        0|            0|          1|\n",
            "|       Qatar|      Ecador|    5|              0|        47|   434|           80|   15|           5|        0|       3|      1|        0|            2|  Lost|Group|        NO|            NA|                NA|        NA|Group A|        0|            0|          2|\n",
            "|      Ecador|       Qatar|    6|              3|        53|   486|           84|   15|           2|        0|       4|      3|        2|            0|   Won|Group|        NO|            NA|                NA|        NA|  Other|        0|            0|          2|\n",
            "|     England|        Iran|   13|              7|        79|   797|           89|    9|           0|        0|       2|      8|        6|            2|   Won|Group|        NO|            NA|                NA|        NA|Group B|        0|            0|          8|\n",
            "|        Iran|     England|    8|              3|        21|   215|           66|   14|           2|        0|       2|      0|        2|            6|  Lost|Group|        NO|            NA|                NA|        NA|Group B|        0|            0|          8|\n",
            "|     Senegal| Netherlands|   15|              4|        46|   385|           79|   13|           2|        0|       2|      6|        0|            2|  Lost|Group|        NO|            NA|                NA|        NA|Group A|        0|            0|          2|\n",
            "| Netherlands|     Senegal|   10|              3|        54|   436|           81|   13|           1|        0|       1|      7|        2|            0|   Won|Group|        NO|            NA|                NA|        NA|Group A|        0|            0|          2|\n",
            "|         USA|       Wales|    6|              1|        59|   567|           87|   15|           4|        0|       1|      5|        1|            1|  Draw|Group|        NO|            NA|                NA|        NA|  Other|        0|            0|          2|\n",
            "|       Wales|         USA|    7|              3|        41|   403|           76|   10|           2|        0|       1|      3|        1|            1|  Draw|Group|        NO|            NA|                NA|        NA|Group B|        0|            0|          2|\n",
            "|   Argentina|Saudi Arabia|   15|              6|        70|   596|           85|    7|           0|        0|      10|      9|        1|            2|  Lost|Group|        NO|            NA|                NA|        NA|Group C|        0|            0|          3|\n",
            "|Saudi Arabia|   Argentina|    3|              2|        30|   266|           68|   21|           6|        0|       1|      2|        2|            1|   Won|Group|        NO|            NA|                NA|        NA|Group C|        0|            0|          3|\n",
            "|     Denmark|     Tunisia|   11|              5|        62|   595|           84|    9|           2|        0|       1|     11|        0|            0|  Draw|Group|        NO|            NA|                NA|        NA|Group D|        0|            0|          0|\n",
            "|     Tunisia|     Denmark|   13|              1|        38|   374|           74|   10|           1|        0|       1|      9|        0|            0|  Draw|Group|        NO|            NA|                NA|        NA|Group D|        0|            0|          0|\n",
            "+------------+------------+-----+---------------+----------+------+-------------+-----+------------+---------+--------+-------+---------+-------------+------+-----+----------+--------------+------------------+----------+-------+---------+-------------+-----------+\n",
            "only showing top 20 rows\n",
            "\n"
          ]
        }
      ]
    },
    {
      "cell_type": "markdown",
      "source": [
        " Find out total goals scored in every group"
      ],
      "metadata": {
        "id": "DwJmul565F6f"
      }
    },
    {
      "cell_type": "code",
      "source": [
        "df4=df3.groupBy(\"Group\").sum(\"Total Goals\")\n",
        "df4.show()"
      ],
      "metadata": {
        "colab": {
          "base_uri": "https://localhost:8080/"
        },
        "id": "0rDAktHE41Px",
        "outputId": "3802a895-4f4e-4c3b-aa60-367b5a3a7760"
      },
      "execution_count": 111,
      "outputs": [
        {
          "output_type": "stream",
          "name": "stdout",
          "text": [
            "+-------+----------------+\n",
            "|  Group|sum(Total Goals)|\n",
            "+-------+----------------+\n",
            "|Group H|              48|\n",
            "|Group A|              30|\n",
            "|Group E|              44|\n",
            "|  Other|              32|\n",
            "|Group D|              32|\n",
            "|Group G|              42|\n",
            "|Group F|              16|\n",
            "|Group B|              35|\n",
            "|Group C|              34|\n",
            "+-------+----------------+\n",
            "\n"
          ]
        }
      ]
    },
    {
      "cell_type": "markdown",
      "source": [
        "Which country committed more fouls during group stage matches?"
      ],
      "metadata": {
        "id": "rOfepwPj6E6X"
      }
    },
    {
      "cell_type": "code",
      "source": [
        "df3.select('Team','Fouls').where(col('Stage')=='Group').groupBy('Team').agg(sum(\"Fouls\").alias(\"Total Fouls\")).orderBy('Total Fouls',ascending=False).collect()[0][0]"
      ],
      "metadata": {
        "colab": {
          "base_uri": "https://localhost:8080/",
          "height": 35
        },
        "id": "fgAWiJpf56l5",
        "outputId": "6045d5ad-5be8-4005-fdbb-ba5a15fd0310"
      },
      "execution_count": 112,
      "outputs": [
        {
          "output_type": "execute_result",
          "data": {
            "text/plain": [
              "'Saudi Arabia'"
            ],
            "application/vnd.google.colaboratory.intrinsic+json": {
              "type": "string"
            }
          },
          "metadata": {},
          "execution_count": 112
        }
      ]
    },
    {
      "cell_type": "markdown",
      "source": [
        "Which team got more Yellow cards in a match? Who was the opponent?"
      ],
      "metadata": {
        "id": "Bp5x2kaq666H"
      }
    },
    {
      "cell_type": "code",
      "source": [
        "df5=df3.select('Team','Opponent','Yellow Cards').orderBy(col('Yellow Cards'),ascending=False)\n",
        "print(df5.collect()[0][0],df5.collect()[0][1])"
      ],
      "metadata": {
        "colab": {
          "base_uri": "https://localhost:8080/"
        },
        "id": "WM1Q2ZMq61nR",
        "outputId": "5d2b4c42-2f1f-49c7-a65a-69613d75840d"
      },
      "execution_count": 116,
      "outputs": [
        {
          "output_type": "stream",
          "name": "stdout",
          "text": [
            "Argentina Netherlands\n"
          ]
        }
      ]
    },
    {
      "cell_type": "markdown",
      "source": [
        "Which team/s scored more goals in group stages?"
      ],
      "metadata": {
        "id": "SduFNdVW728n"
      }
    },
    {
      "cell_type": "code",
      "source": [
        "df7=df3.groupBy(\"Team\").agg(sum(\"Goals For\").alias(\"Total Goals\")).orderBy(desc(\"Total Goals\"))\n",
        "df7.collect()[0][\"Team\"]"
      ],
      "metadata": {
        "colab": {
          "base_uri": "https://localhost:8080/",
          "height": 35
        },
        "id": "HfPRykyI711a",
        "outputId": "1a4eba2b-194e-4b79-f412-5d51ce630d86"
      },
      "execution_count": 121,
      "outputs": [
        {
          "output_type": "execute_result",
          "data": {
            "text/plain": [
              "'France'"
            ],
            "application/vnd.google.colaboratory.intrinsic+json": {
              "type": "string"
            }
          },
          "metadata": {},
          "execution_count": 121
        }
      ]
    },
    {
      "cell_type": "markdown",
      "source": [],
      "metadata": {
        "id": "PU_tIP5s417g"
      }
    }
  ]
}